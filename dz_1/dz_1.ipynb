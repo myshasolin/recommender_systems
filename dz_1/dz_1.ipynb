{
 "cells": [
  {
   "cell_type": "markdown",
   "id": "425a10d7-caa9-4f84-abff-f528aeb4ab80",
   "metadata": {
    "id": "425a10d7-caa9-4f84-abff-f528aeb4ab80"
   },
   "source": [
    "# Домашнее задание №1\n",
    "\n",
    "На семинаре мы проходили метрики, необходимо реализовать некоторые из них"
   ]
  },
  {
   "cell_type": "code",
   "execution_count": 1,
   "id": "6f4acf2d-e8a0-469a-8463-6dc26521c554",
   "metadata": {
    "id": "6f4acf2d-e8a0-469a-8463-6dc26521c554"
   },
   "outputs": [],
   "source": [
    "import numpy as np\n",
    "import pandas as pd"
   ]
  },
  {
   "cell_type": "markdown",
   "id": "oCYhDbzP8zfs",
   "metadata": {
    "id": "oCYhDbzP8zfs"
   },
   "source": [
    "Добавим \"игрушечный\" датасет и посмотрим на него:"
   ]
  },
  {
   "cell_type": "code",
   "execution_count": 2,
   "id": "GBFszadM8yqg",
   "metadata": {
    "colab": {
     "base_uri": "https://localhost:8080/",
     "height": 143
    },
    "id": "GBFszadM8yqg",
    "outputId": "3997f288-0381-496f-9fb6-1f5b198f6e9f"
   },
   "outputs": [
    {
     "data": {
      "text/html": [
       "<div>\n",
       "<style scoped>\n",
       "    .dataframe tbody tr th:only-of-type {\n",
       "        vertical-align: middle;\n",
       "    }\n",
       "\n",
       "    .dataframe tbody tr th {\n",
       "        vertical-align: top;\n",
       "    }\n",
       "\n",
       "    .dataframe thead th {\n",
       "        text-align: right;\n",
       "    }\n",
       "</style>\n",
       "<table border=\"1\" class=\"dataframe\">\n",
       "  <thead>\n",
       "    <tr style=\"text-align: right;\">\n",
       "      <th></th>\n",
       "      <th>user_id</th>\n",
       "      <th>recommended_list</th>\n",
       "      <th>bought_list</th>\n",
       "      <th>prices_recommended</th>\n",
       "      <th>prices_bought</th>\n",
       "    </tr>\n",
       "  </thead>\n",
       "  <tbody>\n",
       "    <tr>\n",
       "      <th>0</th>\n",
       "      <td>u1</td>\n",
       "      <td>[143, 156, 1134, 991, 27]</td>\n",
       "      <td>[156, 27]</td>\n",
       "      <td>[5, 0.5, 8.0, 2.0, 1.5]</td>\n",
       "      <td>[0.5, 1.5]</td>\n",
       "    </tr>\n",
       "    <tr>\n",
       "      <th>1</th>\n",
       "      <td>u2</td>\n",
       "      <td>[1543, 3345, 533, 11, 43]</td>\n",
       "      <td>[11, 43]</td>\n",
       "      <td>[8.0, 4.4, 2.0, 2.0, 4]</td>\n",
       "      <td>[2.0, 4]</td>\n",
       "    </tr>\n",
       "    <tr>\n",
       "      <th>2</th>\n",
       "      <td>u3</td>\n",
       "      <td>[156, 3345, 10, 15, 1134]</td>\n",
       "      <td>[1]</td>\n",
       "      <td>[0.5, 4.4, 4.0, 6.0, 8.0]</td>\n",
       "      <td>[nan]</td>\n",
       "    </tr>\n",
       "  </tbody>\n",
       "</table>\n",
       "</div>"
      ],
      "text/plain": [
       "  user_id           recommended_list bought_list         prices_recommended  \\\n",
       "0      u1  [143, 156, 1134, 991, 27]   [156, 27]    [5, 0.5, 8.0, 2.0, 1.5]   \n",
       "1      u2  [1543, 3345, 533, 11, 43]    [11, 43]    [8.0, 4.4, 2.0, 2.0, 4]   \n",
       "2      u3  [156, 3345, 10, 15, 1134]         [1]  [0.5, 4.4, 4.0, 6.0, 8.0]   \n",
       "\n",
       "  prices_bought  \n",
       "0    [0.5, 1.5]  \n",
       "1      [2.0, 4]  \n",
       "2         [nan]  "
      ]
     },
     "execution_count": 2,
     "metadata": {},
     "output_type": "execute_result"
    }
   ],
   "source": [
    "data = pd.DataFrame({'user_id': ['u1','u2','u3'], \n",
    "                     'recommended_list':    [[143, 156, 1134, 991, 27],\n",
    "                                             [1543, 3345, 533, 11, 43],\n",
    "                                             [156, 3345, 10, 15, 1134]],\n",
    "                     \n",
    "                      'bought_list':        [[156, 27], [11, 43], [1]],\n",
    "                     \n",
    "                      'prices_recommended': [[5, .5, 8., 2., 1.5],\n",
    "                                             [8., 4.4, 2., 2., 4],\n",
    "                                             [.5, 4.4, 4., 6., 8.]],\n",
    "                     \n",
    "                      'prices_bought':      [[.5, 1.5], [2., 4], [np.nan]]\n",
    "                     })\n",
    "data"
   ]
  },
  {
   "cell_type": "markdown",
   "id": "38a80a25-4ea6-49c9-a0f4-c7fc2a80dcc1",
   "metadata": {
    "id": "38a80a25-4ea6-49c9-a0f4-c7fc2a80dcc1"
   },
   "source": [
    "## Задание 1. Реализовать метрики Recall@k и  Money Recall@k\n",
    "\n",
    "*Recall* - доля рекомендованных товаров среди релевантных = Какой % купленных товаров был среди рекомендованных\n",
    "\n",
    "$$\\Large Recall@K(i) = \\frac {\\sum_{j=1}^{K}\\mathbb{1}_{r_{ij}}}{|Rel_i|}$$\n",
    "\n",
    "$\\Large |Rel_i|$ -- количество релевантных товаров для пользователя $i$\n",
    "\n",
    "$$\\Large MoneyRecall@K(i) = \\frac {\\sum_{j=1}^{K}\\mathbb{1}_{r_{ij}}\\cdot Price(j)}{\\sum_{s\\in Rel_i}Price(s)}$$\n"
   ]
  },
  {
   "cell_type": "code",
   "execution_count": 3,
   "id": "34a7db81-664c-4c9b-92c0-d565fa5487fc",
   "metadata": {
    "id": "34a7db81-664c-4c9b-92c0-d565fa5487fc"
   },
   "outputs": [],
   "source": [
    "def recall_at_k(recommended_list, bought_list, k=5):\n",
    "    \n",
    "    flags = np.isin(np.array(recommended_list)[:k], np.array(bought_list))\n",
    "    return flags.sum() / len(bought_list)\n",
    "\n",
    "\n",
    "def money_recall_at_k(recommended_list, bought_list, prices_recommended, prices_bought, k=5):\n",
    "\n",
    "    flags = np.isin(np.array(recommended_list)[:k], np.array(bought_list))\n",
    "    return (flags * np.array(prices_recommended)[:k]).sum() / np.array(prices_bought).sum()\n"
   ]
  },
  {
   "cell_type": "markdown",
   "id": "GZUslfGgCxsU",
   "metadata": {
    "id": "GZUslfGgCxsU"
   },
   "source": [
    "Проверим функции:"
   ]
  },
  {
   "cell_type": "code",
   "execution_count": 4,
   "id": "lNrfLL0TBKDN",
   "metadata": {
    "colab": {
     "base_uri": "https://localhost:8080/",
     "height": 178
    },
    "id": "lNrfLL0TBKDN",
    "outputId": "1a902ef2-a67e-4267-85bf-2040ddbf7484"
   },
   "outputs": [
    {
     "name": "stdout",
     "output_type": "stream",
     "text": [
      "mean_recall=0.6667\n",
      "money_mean_recall=0.2917\n"
     ]
    },
    {
     "data": {
      "text/html": [
       "<div>\n",
       "<style scoped>\n",
       "    .dataframe tbody tr th:only-of-type {\n",
       "        vertical-align: middle;\n",
       "    }\n",
       "\n",
       "    .dataframe tbody tr th {\n",
       "        vertical-align: top;\n",
       "    }\n",
       "\n",
       "    .dataframe thead th {\n",
       "        text-align: right;\n",
       "    }\n",
       "</style>\n",
       "<table border=\"1\" class=\"dataframe\">\n",
       "  <thead>\n",
       "    <tr style=\"text-align: right;\">\n",
       "      <th></th>\n",
       "      <th>user_id</th>\n",
       "      <th>recommended_list</th>\n",
       "      <th>bought_list</th>\n",
       "      <th>prices_recommended</th>\n",
       "      <th>prices_bought</th>\n",
       "      <th>recall_at_5</th>\n",
       "      <th>money_recall_at_4</th>\n",
       "    </tr>\n",
       "  </thead>\n",
       "  <tbody>\n",
       "    <tr>\n",
       "      <th>0</th>\n",
       "      <td>u1</td>\n",
       "      <td>[143, 156, 1134, 991, 27]</td>\n",
       "      <td>[156, 27]</td>\n",
       "      <td>[5, 0.5, 8.0, 2.0, 1.5]</td>\n",
       "      <td>[0.5, 1.5]</td>\n",
       "      <td>1.0</td>\n",
       "      <td>0.250000</td>\n",
       "    </tr>\n",
       "    <tr>\n",
       "      <th>1</th>\n",
       "      <td>u2</td>\n",
       "      <td>[1543, 3345, 533, 11, 43]</td>\n",
       "      <td>[11, 43]</td>\n",
       "      <td>[8.0, 4.4, 2.0, 2.0, 4]</td>\n",
       "      <td>[2.0, 4]</td>\n",
       "      <td>1.0</td>\n",
       "      <td>0.333333</td>\n",
       "    </tr>\n",
       "    <tr>\n",
       "      <th>2</th>\n",
       "      <td>u3</td>\n",
       "      <td>[156, 3345, 10, 15, 1134]</td>\n",
       "      <td>[1]</td>\n",
       "      <td>[0.5, 4.4, 4.0, 6.0, 8.0]</td>\n",
       "      <td>[nan]</td>\n",
       "      <td>0.0</td>\n",
       "      <td>NaN</td>\n",
       "    </tr>\n",
       "  </tbody>\n",
       "</table>\n",
       "</div>"
      ],
      "text/plain": [
       "  user_id           recommended_list bought_list         prices_recommended  \\\n",
       "0      u1  [143, 156, 1134, 991, 27]   [156, 27]    [5, 0.5, 8.0, 2.0, 1.5]   \n",
       "1      u2  [1543, 3345, 533, 11, 43]    [11, 43]    [8.0, 4.4, 2.0, 2.0, 4]   \n",
       "2      u3  [156, 3345, 10, 15, 1134]         [1]  [0.5, 4.4, 4.0, 6.0, 8.0]   \n",
       "\n",
       "  prices_bought  recall_at_5  money_recall_at_4  \n",
       "0    [0.5, 1.5]          1.0           0.250000  \n",
       "1      [2.0, 4]          1.0           0.333333  \n",
       "2         [nan]          0.0                NaN  "
      ]
     },
     "execution_count": 4,
     "metadata": {},
     "output_type": "execute_result"
    }
   ],
   "source": [
    "# посчитаем recall_at_k для 5-ти товаров:\n",
    "data['recall_at_5'] = data.apply(lambda x: recall_at_k(x['recommended_list'], x['bought_list'], k=5), axis=1)\n",
    "mean_recall = data['recall_at_5'].mean()\n",
    "print(f'{mean_recall=:.4f}')\n",
    "\n",
    "# и посчитаем money_recall_at_k для, допустим, 4-х товаров:\n",
    "data['money_recall_at_4'] = data.apply(lambda x: money_recall_at_k(x['recommended_list'], \n",
    "                                                                   x['bought_list'], \n",
    "                                                                   x['prices_recommended'], \n",
    "                                                                   x['prices_bought'], \n",
    "                                                                   k=4), axis=1)\n",
    "money_mean_recall = data['money_recall_at_4'].mean()\n",
    "print(f'{money_mean_recall=:.4f}')\n",
    "\n",
    "data"
   ]
  },
  {
   "cell_type": "markdown",
   "id": "b42d4d0d-6073-47b6-ad54-586a477405e5",
   "metadata": {
    "id": "b42d4d0d-6073-47b6-ad54-586a477405e5"
   },
   "source": [
    "## Задание 2. Реализовать метрику MRR@k\n",
    "\n",
    "Mean Reciprocal Rank\n",
    "\n",
    "- Считаем для первых k рекоммендаций\n",
    "- Найти ранк первого релевантного предсказания $\\Large rank_j$\n",
    "- Посчитать reciprocal rank = $\\Large\\frac{1}{rank_j}$\n",
    "\n",
    "$$\\Large  MMR(i)@k=\\frac {1}{\\min\\limits_{j\\in Rel(i)} rank_j}$$"
   ]
  },
  {
   "cell_type": "code",
   "execution_count": 5,
   "id": "UJKiMU_XuZfg",
   "metadata": {
    "id": "UJKiMU_XuZfg"
   },
   "outputs": [],
   "source": [
    "def mrr_at_k(recommended_list, bought_list, k):\n",
    "\n",
    "    flags = np.isin(np.array(recommended_list)[:k], np.array(bought_list))\n",
    "    if flags.sum() == 0:\n",
    "        return 0\n",
    "\n",
    "    rank = np.where(flags == True)[0][0] + 1 # np.where - индекс первого релевантного товара в списке рекомендаций\n",
    "    return 1 / rank"
   ]
  },
  {
   "cell_type": "code",
   "execution_count": 6,
   "id": "Hhu-3dqmuZjO",
   "metadata": {
    "colab": {
     "base_uri": "https://localhost:8080/",
     "height": 161
    },
    "id": "Hhu-3dqmuZjO",
    "outputId": "a278b155-200a-46cd-e5d9-34d8a5487801"
   },
   "outputs": [
    {
     "name": "stdout",
     "output_type": "stream",
     "text": [
      "mean_mrr=0.2500\n"
     ]
    },
    {
     "data": {
      "text/html": [
       "<div>\n",
       "<style scoped>\n",
       "    .dataframe tbody tr th:only-of-type {\n",
       "        vertical-align: middle;\n",
       "    }\n",
       "\n",
       "    .dataframe tbody tr th {\n",
       "        vertical-align: top;\n",
       "    }\n",
       "\n",
       "    .dataframe thead th {\n",
       "        text-align: right;\n",
       "    }\n",
       "</style>\n",
       "<table border=\"1\" class=\"dataframe\">\n",
       "  <thead>\n",
       "    <tr style=\"text-align: right;\">\n",
       "      <th></th>\n",
       "      <th>user_id</th>\n",
       "      <th>recommended_list</th>\n",
       "      <th>bought_list</th>\n",
       "      <th>prices_recommended</th>\n",
       "      <th>prices_bought</th>\n",
       "      <th>recall_at_5</th>\n",
       "      <th>money_recall_at_4</th>\n",
       "      <th>mrr_at_k</th>\n",
       "    </tr>\n",
       "  </thead>\n",
       "  <tbody>\n",
       "    <tr>\n",
       "      <th>0</th>\n",
       "      <td>u1</td>\n",
       "      <td>[143, 156, 1134, 991, 27]</td>\n",
       "      <td>[156, 27]</td>\n",
       "      <td>[5, 0.5, 8.0, 2.0, 1.5]</td>\n",
       "      <td>[0.5, 1.5]</td>\n",
       "      <td>1.0</td>\n",
       "      <td>0.250000</td>\n",
       "      <td>0.50</td>\n",
       "    </tr>\n",
       "    <tr>\n",
       "      <th>1</th>\n",
       "      <td>u2</td>\n",
       "      <td>[1543, 3345, 533, 11, 43]</td>\n",
       "      <td>[11, 43]</td>\n",
       "      <td>[8.0, 4.4, 2.0, 2.0, 4]</td>\n",
       "      <td>[2.0, 4]</td>\n",
       "      <td>1.0</td>\n",
       "      <td>0.333333</td>\n",
       "      <td>0.25</td>\n",
       "    </tr>\n",
       "    <tr>\n",
       "      <th>2</th>\n",
       "      <td>u3</td>\n",
       "      <td>[156, 3345, 10, 15, 1134]</td>\n",
       "      <td>[1]</td>\n",
       "      <td>[0.5, 4.4, 4.0, 6.0, 8.0]</td>\n",
       "      <td>[nan]</td>\n",
       "      <td>0.0</td>\n",
       "      <td>NaN</td>\n",
       "      <td>0.00</td>\n",
       "    </tr>\n",
       "  </tbody>\n",
       "</table>\n",
       "</div>"
      ],
      "text/plain": [
       "  user_id           recommended_list bought_list         prices_recommended  \\\n",
       "0      u1  [143, 156, 1134, 991, 27]   [156, 27]    [5, 0.5, 8.0, 2.0, 1.5]   \n",
       "1      u2  [1543, 3345, 533, 11, 43]    [11, 43]    [8.0, 4.4, 2.0, 2.0, 4]   \n",
       "2      u3  [156, 3345, 10, 15, 1134]         [1]  [0.5, 4.4, 4.0, 6.0, 8.0]   \n",
       "\n",
       "  prices_bought  recall_at_5  money_recall_at_4  mrr_at_k  \n",
       "0    [0.5, 1.5]          1.0           0.250000      0.50  \n",
       "1      [2.0, 4]          1.0           0.333333      0.25  \n",
       "2         [nan]          0.0                NaN      0.00  "
      ]
     },
     "execution_count": 6,
     "metadata": {},
     "output_type": "execute_result"
    }
   ],
   "source": [
    "# проверим:\n",
    "data['mrr_at_k'] = data.apply(lambda x: mrr_at_k(x['recommended_list'], \n",
    "                                                 x['bought_list'], \n",
    "                                                 k=5), axis=1)\n",
    "mean_mrr = data['mrr_at_k'].mean()\n",
    "print(f'{mean_mrr=:.4f}')\n",
    "\n",
    "data"
   ]
  },
  {
   "cell_type": "markdown",
   "id": "1c3008cc-fd9e-44c6-8913-43d71ffb9cd7",
   "metadata": {
    "id": "1c3008cc-fd9e-44c6-8913-43d71ffb9cd7"
   },
   "source": [
    "## Задание 3*. Реализовать метрику nDCG@k\n",
    "Normalized discounted cumulative gain. Эту метрику реализовать будет немного сложнее.\n",
    "\n",
    "$$\\Large DCG@K(i) = \\sum_{j=1}^{K}\\frac{\\mathbb{1}_{r_{ij}}}{\\log_2 (j+1)}$$\n",
    "\n",
    "\n",
    "$\\Large \\mathbb{1}_{r_{ij}}$ -- индикаторная функция показывает что пользователь $i$ провзаимодействовал с продуктом $j$\n",
    "\n",
    "Для подсчета $nDCG$ нам необходимо найти максимально возможный $DCG$ для пользователя $i$  и рекомендаций длины $K$.\n",
    "Максимальный $DCG$ достигается когда мы порекомендовали максимально возможное количество релевантных продуктов и все они в начале списка рекомендаций.\n",
    "\n",
    "$$\\Large IDCG@K(i) = max(DCG@K(i)) = \\sum_{j=1}^{K}\\frac{\\mathbb{1}_{j\\le|Rel_i|}}{\\log_2 (j+1)}$$\n",
    "\n",
    "$$\\Large nDCG@K(i) = \\frac {DCG@K(i)}{IDCG@K(i)}$$\n",
    "\n",
    "$\\Large |Rel_i|$ -- количество релевантных продуктов для пользователя $i$\n",
    "\n"
   ]
  },
  {
   "cell_type": "code",
   "execution_count": 7,
   "id": "67d7e53c-dfd8-4423-a107-f85880a45c7e",
   "metadata": {
    "id": "67d7e53c-dfd8-4423-a107-f85880a45c7e"
   },
   "outputs": [],
   "source": [
    "def ndcg_at_k(recommended_list, bought_list, k=5):\n",
    "\n",
    "    dcg_at_k, idcg_at_k = 0, 0\n",
    "    flags = np.isin(np.array(recommended_list)[:k], np.array(bought_list))\n",
    "    if sum(flags) == 0: \n",
    "        return 0    \n",
    "\n",
    "    # находим DCG и IDCG\n",
    "    for i in range(len(flags)):\n",
    "        if flags[i]:\n",
    "            dcg_at_k += 1 / np.log2(i+2) # числитель: считаем только совпадения, 2 - константа\n",
    "        idcg_at_k += 1 / np.log2(i+2)    # знаменатель: считаем все\n",
    "    # находим NDCG\n",
    "    if idcg_at_k == 0:                   # если IDCG равен 0\n",
    "        ndcg_at_k = 0                    # то возвращаем 0\n",
    "    else:\n",
    "        ndcg_at_k = dcg_at_k/idcg_at_k\n",
    "\n",
    "    return ndcg_at_k"
   ]
  },
  {
   "cell_type": "code",
   "execution_count": 8,
   "id": "bKmLiv8Yj62W",
   "metadata": {
    "colab": {
     "base_uri": "https://localhost:8080/",
     "height": 161
    },
    "id": "bKmLiv8Yj62W",
    "outputId": "1bac2e4a-8203-4daf-be0e-19a97e3cbcdd"
   },
   "outputs": [
    {
     "name": "stdout",
     "output_type": "stream",
     "text": [
      "mean_ndcg=0.1381\n"
     ]
    },
    {
     "data": {
      "text/html": [
       "<div>\n",
       "<style scoped>\n",
       "    .dataframe tbody tr th:only-of-type {\n",
       "        vertical-align: middle;\n",
       "    }\n",
       "\n",
       "    .dataframe tbody tr th {\n",
       "        vertical-align: top;\n",
       "    }\n",
       "\n",
       "    .dataframe thead th {\n",
       "        text-align: right;\n",
       "    }\n",
       "</style>\n",
       "<table border=\"1\" class=\"dataframe\">\n",
       "  <thead>\n",
       "    <tr style=\"text-align: right;\">\n",
       "      <th></th>\n",
       "      <th>user_id</th>\n",
       "      <th>recommended_list</th>\n",
       "      <th>bought_list</th>\n",
       "      <th>prices_recommended</th>\n",
       "      <th>prices_bought</th>\n",
       "      <th>recall_at_5</th>\n",
       "      <th>money_recall_at_4</th>\n",
       "      <th>mrr_at_k</th>\n",
       "      <th>ndcg_at_5</th>\n",
       "    </tr>\n",
       "  </thead>\n",
       "  <tbody>\n",
       "    <tr>\n",
       "      <th>0</th>\n",
       "      <td>u1</td>\n",
       "      <td>[143, 156, 1134, 991, 27]</td>\n",
       "      <td>[156, 27]</td>\n",
       "      <td>[5, 0.5, 8.0, 2.0, 1.5]</td>\n",
       "      <td>[0.5, 1.5]</td>\n",
       "      <td>1.0</td>\n",
       "      <td>0.250000</td>\n",
       "      <td>0.50</td>\n",
       "      <td>0.246302</td>\n",
       "    </tr>\n",
       "    <tr>\n",
       "      <th>1</th>\n",
       "      <td>u2</td>\n",
       "      <td>[1543, 3345, 533, 11, 43]</td>\n",
       "      <td>[11, 43]</td>\n",
       "      <td>[8.0, 4.4, 2.0, 2.0, 4]</td>\n",
       "      <td>[2.0, 4]</td>\n",
       "      <td>1.0</td>\n",
       "      <td>0.333333</td>\n",
       "      <td>0.25</td>\n",
       "      <td>0.168128</td>\n",
       "    </tr>\n",
       "    <tr>\n",
       "      <th>2</th>\n",
       "      <td>u3</td>\n",
       "      <td>[156, 3345, 10, 15, 1134]</td>\n",
       "      <td>[1]</td>\n",
       "      <td>[0.5, 4.4, 4.0, 6.0, 8.0]</td>\n",
       "      <td>[nan]</td>\n",
       "      <td>0.0</td>\n",
       "      <td>NaN</td>\n",
       "      <td>0.00</td>\n",
       "      <td>0.000000</td>\n",
       "    </tr>\n",
       "  </tbody>\n",
       "</table>\n",
       "</div>"
      ],
      "text/plain": [
       "  user_id           recommended_list bought_list         prices_recommended  \\\n",
       "0      u1  [143, 156, 1134, 991, 27]   [156, 27]    [5, 0.5, 8.0, 2.0, 1.5]   \n",
       "1      u2  [1543, 3345, 533, 11, 43]    [11, 43]    [8.0, 4.4, 2.0, 2.0, 4]   \n",
       "2      u3  [156, 3345, 10, 15, 1134]         [1]  [0.5, 4.4, 4.0, 6.0, 8.0]   \n",
       "\n",
       "  prices_bought  recall_at_5  money_recall_at_4  mrr_at_k  ndcg_at_5  \n",
       "0    [0.5, 1.5]          1.0           0.250000      0.50   0.246302  \n",
       "1      [2.0, 4]          1.0           0.333333      0.25   0.168128  \n",
       "2         [nan]          0.0                NaN      0.00   0.000000  "
      ]
     },
     "execution_count": 8,
     "metadata": {},
     "output_type": "execute_result"
    }
   ],
   "source": [
    "# проверим:\n",
    "data['ndcg_at_5'] = data.apply(lambda x: ndcg_at_k(x['recommended_list'], x['bought_list'], k=4), axis=1)\n",
    "mean_ndcg = data['ndcg_at_5'].mean()\n",
    "print(f'{mean_ndcg=:.4f}')\n",
    "\n",
    "data"
   ]
  },
  {
   "cell_type": "markdown",
   "id": "5b603806",
   "metadata": {
    "id": "Is2M4dfF-b5x"
   },
   "source": [
    "_____"
   ]
  }
 ],
 "metadata": {
  "colab": {
   "provenance": []
  },
  "kernelspec": {
   "display_name": "Python 3 (ipykernel)",
   "language": "python",
   "name": "python3"
  },
  "language_info": {
   "codemirror_mode": {
    "name": "ipython",
    "version": 3
   },
   "file_extension": ".py",
   "mimetype": "text/x-python",
   "name": "python",
   "nbconvert_exporter": "python",
   "pygments_lexer": "ipython3",
   "version": "3.9.15"
  },
  "toc": {
   "base_numbering": 1,
   "nav_menu": {},
   "number_sections": true,
   "sideBar": true,
   "skip_h1_title": true,
   "title_cell": "Table of Contents",
   "title_sidebar": "Contents",
   "toc_cell": true,
   "toc_position": {},
   "toc_section_display": true,
   "toc_window_display": false
  }
 },
 "nbformat": 4,
 "nbformat_minor": 5
}
