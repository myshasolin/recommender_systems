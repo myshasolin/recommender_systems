{
 "cells": [
  {
   "cell_type": "markdown",
   "id": "7b1c04c9-7891-4cae-a173-260fa8242f64",
   "metadata": {},
   "source": [
    "### Задание 1\n",
    "\n",
    "Попробуйте различные варианты генерации кандидатов. Какие из них дают наибольший recall@k ?\n",
    "\n",
    "### Задание 2.\n",
    "\n",
    "Обучите модель 2-ого уровня, при этом:\n",
    "- Добавьте минимум по 2 фичи для юзера, товара и пары юзер-товар\n",
    "- Измерьте отдельно precision@5 модели 1-ого уровня и двухуровневой модели на data_val_lvl_2\n",
    "- Вырос ли precision@5 при использовании двухуровневой модели?"
   ]
  },
  {
   "cell_type": "markdown",
   "id": "5ed1ae03-ce9d-4843-be22-16b80b66674d",
   "metadata": {},
   "source": [
    "_____"
   ]
  },
  {
   "cell_type": "markdown",
   "id": "852b6b43-db9d-483c-bfd2-834586a9ce28",
   "metadata": {},
   "source": [
    "Качаем библиотеки:"
   ]
  },
  {
   "cell_type": "code",
   "execution_count": 1,
   "id": "c24c1ba7-f6b1-40cb-a240-bce5bd60c140",
   "metadata": {},
   "outputs": [],
   "source": [
    "import pandas as pd\n",
    "import numpy as np\n",
    "import matplotlib.pyplot as plt\n",
    "\n",
    "import pickle\n",
    "import re\n",
    "\n",
    "# Для работы с матрицами\n",
    "from scipy.sparse import csr_matrix\n",
    "\n",
    "# Матричная факторизация\n",
    "from implicit import als\n",
    "from implicit.nearest_neighbours import ItemItemRecommender\n",
    "\n",
    "# Модель второго уровня\n",
    "import lightgbm as lgb\n",
    "\n",
    "# Написанные нами функции\n",
    "from src.metrics import precision_at_k, recall_at_k, ap_k\n",
    "from src.utils import prefilter_items, get_result_table\n",
    "from src.recommenders import MainRecommender\n",
    "\n",
    "import warnings\n",
    "warnings.filterwarnings('ignore')\n",
    "%load_ext autoreload\n",
    "%autoreload 2"
   ]
  },
  {
   "cell_type": "markdown",
   "id": "e0efadf6-c543-4557-abaa-417d4a6a28ea",
   "metadata": {},
   "source": [
    "Необходимые файлы:"
   ]
  },
  {
   "cell_type": "code",
   "execution_count": 2,
   "id": "6f78e3bf-341a-4e85-a759-54e0cebb8881",
   "metadata": {},
   "outputs": [
    {
     "data": {
      "text/html": [
       "<div>\n",
       "<style scoped>\n",
       "    .dataframe tbody tr th:only-of-type {\n",
       "        vertical-align: middle;\n",
       "    }\n",
       "\n",
       "    .dataframe tbody tr th {\n",
       "        vertical-align: top;\n",
       "    }\n",
       "\n",
       "    .dataframe thead th {\n",
       "        text-align: right;\n",
       "    }\n",
       "</style>\n",
       "<table border=\"1\" class=\"dataframe\">\n",
       "  <thead>\n",
       "    <tr style=\"text-align: right;\">\n",
       "      <th></th>\n",
       "      <th>user_id</th>\n",
       "      <th>basket_id</th>\n",
       "      <th>day</th>\n",
       "      <th>item_id</th>\n",
       "      <th>quantity</th>\n",
       "      <th>sales_value</th>\n",
       "      <th>store_id</th>\n",
       "      <th>retail_disc</th>\n",
       "      <th>trans_time</th>\n",
       "      <th>week_no</th>\n",
       "      <th>coupon_disc</th>\n",
       "      <th>coupon_match_disc</th>\n",
       "    </tr>\n",
       "  </thead>\n",
       "  <tbody>\n",
       "    <tr>\n",
       "      <th>0</th>\n",
       "      <td>2375</td>\n",
       "      <td>26984851472</td>\n",
       "      <td>1</td>\n",
       "      <td>1004906</td>\n",
       "      <td>1</td>\n",
       "      <td>1.39</td>\n",
       "      <td>364</td>\n",
       "      <td>-0.6</td>\n",
       "      <td>1631</td>\n",
       "      <td>1</td>\n",
       "      <td>0.0</td>\n",
       "      <td>0.0</td>\n",
       "    </tr>\n",
       "    <tr>\n",
       "      <th>1</th>\n",
       "      <td>2375</td>\n",
       "      <td>26984851472</td>\n",
       "      <td>1</td>\n",
       "      <td>1033142</td>\n",
       "      <td>1</td>\n",
       "      <td>0.82</td>\n",
       "      <td>364</td>\n",
       "      <td>0.0</td>\n",
       "      <td>1631</td>\n",
       "      <td>1</td>\n",
       "      <td>0.0</td>\n",
       "      <td>0.0</td>\n",
       "    </tr>\n",
       "  </tbody>\n",
       "</table>\n",
       "</div>"
      ],
      "text/plain": [
       "   user_id    basket_id  day  item_id  quantity  sales_value  store_id  \\\n",
       "0     2375  26984851472    1  1004906         1         1.39       364   \n",
       "1     2375  26984851472    1  1033142         1         0.82       364   \n",
       "\n",
       "   retail_disc  trans_time  week_no  coupon_disc  coupon_match_disc  \n",
       "0         -0.6        1631        1          0.0                0.0  \n",
       "1          0.0        1631        1          0.0                0.0  "
      ]
     },
     "execution_count": 2,
     "metadata": {},
     "output_type": "execute_result"
    }
   ],
   "source": [
    "data = pd.read_csv('../../data/retail_train.csv')\n",
    "item_features = pd.read_csv('../../data/product.csv')\n",
    "user_features = pd.read_csv('../../data/hh_demographic.csv')\n",
    "\n",
    "# column processing\n",
    "item_features.columns = [col.lower() for col in item_features.columns]\n",
    "user_features.columns = [col.lower() for col in user_features.columns]\n",
    "\n",
    "item_features.rename(columns={'product_id': 'item_id'}, inplace=True)\n",
    "user_features.rename(columns={'household_key': 'user_id'}, inplace=True)\n",
    "\n",
    "# -- давние покупки -- | -- 6 недель -- | -- 3 недель -- \n",
    "# подобрать размер 2-ого датасета (6 недель) --> learning curve (зависимость метрики recall@k от размера датасета)\n",
    "val_lvl_1_size_weeks = 6\n",
    "val_lvl_2_size_weeks = 3\n",
    "\n",
    "data_train_lvl_1 = data[data['week_no'] < data['week_no'].max() - (val_lvl_1_size_weeks + val_lvl_2_size_weeks)]\n",
    "data_val_lvl_1 = data[(data['week_no'] >= data['week_no'].max() - (val_lvl_1_size_weeks + val_lvl_2_size_weeks)) &\n",
    "                      (data['week_no'] < data['week_no'].max() - (val_lvl_2_size_weeks))]\n",
    "\n",
    "data_train_lvl_2 = data_val_lvl_1.copy()  # Для наглядности. Далее мы добавим изменения, и они будут отличаться\n",
    "data_val_lvl_2 = data[data['week_no'] >= data['week_no'].max() - val_lvl_2_size_weeks]\n",
    "\n",
    "data_train_lvl_1.head(2)"
   ]
  },
  {
   "cell_type": "markdown",
   "id": "37d52d3b-834a-4b36-a86c-78b33c5f3cee",
   "metadata": {},
   "source": [
    "Оставляем себе 5000 строк:"
   ]
  },
  {
   "cell_type": "code",
   "execution_count": 3,
   "id": "b440ab0e-0f30-4141-abc2-f29f8475deda",
   "metadata": {},
   "outputs": [
    {
     "name": "stdout",
     "output_type": "stream",
     "text": [
      "количество элементов уменьшего с 83685 по 5001\n"
     ]
    }
   ],
   "source": [
    "n_items_before = data_train_lvl_1['item_id'].nunique()\n",
    "\n",
    "data_train_lvl_1 = prefilter_items(data_train_lvl_1, item_features=item_features, take_n_popular=5000)\n",
    "\n",
    "n_items_after = data_train_lvl_1['item_id'].nunique()\n",
    "print(f'количество элементов уменьшего с {n_items_before} по {n_items_after}')"
   ]
  },
  {
   "cell_type": "markdown",
   "id": "e885f585-abe2-43fd-9221-f52ecf61d47f",
   "metadata": {},
   "source": [
    "Вот result, чтоб было, c чем сравнивать:"
   ]
  },
  {
   "cell_type": "code",
   "execution_count": 4,
   "id": "ff8e315e-dd6d-47da-922e-bbf232eaa740",
   "metadata": {},
   "outputs": [
    {
     "data": {
      "text/html": [
       "<div>\n",
       "<style scoped>\n",
       "    .dataframe tbody tr th:only-of-type {\n",
       "        vertical-align: middle;\n",
       "    }\n",
       "\n",
       "    .dataframe tbody tr th {\n",
       "        vertical-align: top;\n",
       "    }\n",
       "\n",
       "    .dataframe thead th {\n",
       "        text-align: right;\n",
       "    }\n",
       "</style>\n",
       "<table border=\"1\" class=\"dataframe\">\n",
       "  <thead>\n",
       "    <tr style=\"text-align: right;\">\n",
       "      <th></th>\n",
       "      <th>user_id</th>\n",
       "      <th>actual</th>\n",
       "    </tr>\n",
       "  </thead>\n",
       "  <tbody>\n",
       "    <tr>\n",
       "      <th>0</th>\n",
       "      <td>1</td>\n",
       "      <td>[853529, 865456, 867607, 872137, 874905, 87524...</td>\n",
       "    </tr>\n",
       "    <tr>\n",
       "      <th>1</th>\n",
       "      <td>2</td>\n",
       "      <td>[15830248, 838136, 839656, 861272, 866211, 870...</td>\n",
       "    </tr>\n",
       "  </tbody>\n",
       "</table>\n",
       "</div>"
      ],
      "text/plain": [
       "   user_id                                             actual\n",
       "0        1  [853529, 865456, 867607, 872137, 874905, 87524...\n",
       "1        2  [15830248, 838136, 839656, 861272, 866211, 870..."
      ]
     },
     "metadata": {},
     "output_type": "display_data"
    },
    {
     "data": {
      "text/html": [
       "<div>\n",
       "<style scoped>\n",
       "    .dataframe tbody tr th:only-of-type {\n",
       "        vertical-align: middle;\n",
       "    }\n",
       "\n",
       "    .dataframe tbody tr th {\n",
       "        vertical-align: top;\n",
       "    }\n",
       "\n",
       "    .dataframe thead th {\n",
       "        text-align: right;\n",
       "    }\n",
       "</style>\n",
       "<table border=\"1\" class=\"dataframe\">\n",
       "  <thead>\n",
       "    <tr style=\"text-align: right;\">\n",
       "      <th></th>\n",
       "      <th>user_id</th>\n",
       "      <th>actual</th>\n",
       "    </tr>\n",
       "  </thead>\n",
       "  <tbody>\n",
       "    <tr>\n",
       "      <th>0</th>\n",
       "      <td>1</td>\n",
       "      <td>[821867, 834484, 856942, 865456, 889248, 90795...</td>\n",
       "    </tr>\n",
       "    <tr>\n",
       "      <th>1</th>\n",
       "      <td>3</td>\n",
       "      <td>[835476, 851057, 872021, 878302, 879948, 90963...</td>\n",
       "    </tr>\n",
       "  </tbody>\n",
       "</table>\n",
       "</div>"
      ],
      "text/plain": [
       "   user_id                                             actual\n",
       "0        1  [821867, 834484, 856942, 865456, 889248, 90795...\n",
       "1        3  [835476, 851057, 872021, 878302, 879948, 90963..."
      ]
     },
     "metadata": {},
     "output_type": "display_data"
    }
   ],
   "source": [
    "result_lvl_1 = get_result_table(data_val_lvl_1)\n",
    "result_lvl_2 = get_result_table(data_val_lvl_2)\n",
    "display(result_lvl_1.head(2), result_lvl_2.head(2))"
   ]
  },
  {
   "cell_type": "markdown",
   "id": "15f21450-47f8-43f8-8230-1b44f2aad25e",
   "metadata": {},
   "source": [
    "Соберём рекомендации с разными k по алгоритму ItemItemRecommender (он побыстрее) в один список:"
   ]
  },
  {
   "cell_type": "code",
   "execution_count": 5,
   "id": "8242bd9f-6284-4660-88ee-69f35b937648",
   "metadata": {},
   "outputs": [
    {
     "data": {
      "application/vnd.jupyter.widget-view+json": {
       "model_id": "220b1b5b084449a9a07efb487ef3d4f8",
       "version_major": 2,
       "version_minor": 0
      },
      "text/plain": [
       "  0%|          | 0/5001 [00:00<?, ?it/s]"
      ]
     },
     "metadata": {},
     "output_type": "display_data"
    },
    {
     "data": {
      "application/vnd.jupyter.widget-view+json": {
       "model_id": "f9ac81ece2c345f29fef23377f2a88b3",
       "version_major": 2,
       "version_minor": 0
      },
      "text/plain": [
       "  0%|          | 0/5001 [00:00<?, ?it/s]"
      ]
     },
     "metadata": {},
     "output_type": "display_data"
    },
    {
     "data": {
      "application/vnd.jupyter.widget-view+json": {
       "model_id": "f1913ad3b6374d74aff75cd215b3a6c9",
       "version_major": 2,
       "version_minor": 0
      },
      "text/plain": [
       "  0%|          | 0/5001 [00:00<?, ?it/s]"
      ]
     },
     "metadata": {},
     "output_type": "display_data"
    },
    {
     "data": {
      "application/vnd.jupyter.widget-view+json": {
       "model_id": "24432fc2fd404242822e3273da3594d5",
       "version_major": 2,
       "version_minor": 0
      },
      "text/plain": [
       "  0%|          | 0/5001 [00:00<?, ?it/s]"
      ]
     },
     "metadata": {},
     "output_type": "display_data"
    },
    {
     "data": {
      "application/vnd.jupyter.widget-view+json": {
       "model_id": "52913d15a81b4ece89a39a51a9c15d09",
       "version_major": 2,
       "version_minor": 0
      },
      "text/plain": [
       "  0%|          | 0/5001 [00:00<?, ?it/s]"
      ]
     },
     "metadata": {},
     "output_type": "display_data"
    },
    {
     "name": "stdout",
     "output_type": "stream",
     "text": [
      "Wall time: 44min 39s\n"
     ]
    }
   ],
   "source": [
    "%%time\n",
    "result_all_recomendations_dict, result_mean_recall_list = [], []\n",
    "\n",
    "for i in [10, 50, 100, 200, 500]:\n",
    "    recom = MainRecommender(data_train_lvl_1, item_item_recommend=True, N=i)\n",
    "    recom.generate_recommendations()\n",
    "    recommendations_dict = recom.recommendations\n",
    "    result_all_recomendations_dict.append(recommendations_dict)\n",
    "    \n",
    "    recalls = []\n",
    "    for user_id, recommended_list in recommendations_dict.items():\n",
    "        bought_list = result_lvl_1[result_lvl_1['user_id'] == user_id]['actual']\n",
    "        if len(bought_list) > 0:\n",
    "            bought_list = bought_list.iloc[0]\n",
    "            recall = recall_at_k(recommended_list, bought_list, k=i)\n",
    "            recalls.append(recall)\n",
    "\n",
    "    mean_recall = np.mean(recalls)\n",
    "    result_mean_recall_list.append((i, mean_recall))"
   ]
  },
  {
   "cell_type": "markdown",
   "id": "eeab8d94-c365-4097-86b6-a14fee628a6f",
   "metadata": {},
   "source": [
    "Вот что получилось:"
   ]
  },
  {
   "cell_type": "code",
   "execution_count": 6,
   "id": "710c8d01-49f1-4c5a-91c8-d5c8e9ad107f",
   "metadata": {},
   "outputs": [
    {
     "data": {
      "text/plain": [
       "[(10, 0.03125458492985768),\n",
       " (50, 0.07351979446351604),\n",
       " (100, 0.09067277610756397),\n",
       " (200, 0.11350370889454986),\n",
       " (500, 0.15153366267228185)]"
      ]
     },
     "execution_count": 6,
     "metadata": {},
     "output_type": "execute_result"
    }
   ],
   "source": [
    "result_mean_recall_list"
   ]
  },
  {
   "cell_type": "markdown",
   "id": "8fb05466-ca9e-4856-bb21-5cedb7f13a26",
   "metadata": {},
   "source": [
    "Посмотрим на графике:"
   ]
  },
  {
   "cell_type": "code",
   "execution_count": 7,
   "id": "5e48264f-9336-4640-8c76-425a911545e3",
   "metadata": {},
   "outputs": [
    {
     "data": {
      "image/png": "[encoded data removed]",
      "text/plain": [
       "<Figure size 1100x400 with 1 Axes>"
      ]
     },
     "metadata": {},
     "output_type": "display_data"
    }
   ],
   "source": [
    "ks, recalls = zip(*result_mean_recall_list)\n",
    "\n",
    "plt.figure(figsize=(11, 4))\n",
    "plt.plot(ks, recalls, '-o', c='#F214E1', lw=3)\n",
    "plt.title('изменение Recall@k от количества рекомендаций для 5000 user\\nалгоритм ItemItemRecommender',\n",
    "          fontweight='bold')\n",
    "plt.xlabel('K - количество рекомендаций')\n",
    "plt.ylabel('Средний Recall')\n",
    "plt.minorticks_on()\n",
    "plt.grid(which='major', linewidth=.5)\n",
    "plt.grid(which='minor', linewidth=.25, linestyle='--');"
   ]
  },
  {
   "cell_type": "markdown",
   "id": "5d198991-e045-43b4-9214-69f83d9e65d0",
   "metadata": {},
   "source": [
    "Вот так мы видим, что от увеличения количества рекомендация значение Recall растёт, при этом явно видно то, что рост Recall от 100 до 500-т рекомендаций уже не такой быстрый, а значит нам будет из чего выбрать и при при K рекомендаций = 100 для того, чтобы из них отранжировать лучшие $\\Rightarrow$ остановимся на них."
   ]
  },
  {
   "cell_type": "markdown",
   "id": "7dd4f57b-8edc-424d-af91-bed6203d6f22",
   "metadata": {},
   "source": [
    "_____"
   ]
  },
  {
   "cell_type": "markdown",
   "id": "b0b6bedd-caae-465d-8e4f-cf1db3212a36",
   "metadata": {},
   "source": [
    "Данные обсчитывали долго, было бы жалко их потерять - сохраним в файл:"
   ]
  },
  {
   "cell_type": "code",
   "execution_count": 8,
   "id": "a250dfe8-82fb-4988-9aba-593349721b41",
   "metadata": {},
   "outputs": [],
   "source": [
    "with open('result_all_recomendations_dict.pkl', 'wb') as f:\n",
    "    pickle.dump(result_all_recomendations_dict, f)"
   ]
  },
  {
   "cell_type": "code",
   "execution_count": 9,
   "id": "527f612b-1cc2-4c87-bc92-da0c9436cf55",
   "metadata": {},
   "outputs": [],
   "source": [
    "with open('result_all_recomendations_dict.pkl', 'rb') as f:\n",
    "    result_all_recomendations_dict = pickle.load(f)"
   ]
  },
  {
   "cell_type": "markdown",
   "id": "7550c02b-e14f-4813-bccc-8ae8a1f3b6a2",
   "metadata": {},
   "source": [
    "Добавим столбец с рекомендациями к датафрейму result_lvl_1 и посмотрим на него:"
   ]
  },
  {
   "cell_type": "code",
   "execution_count": 10,
   "id": "29be1a76-ed62-4a86-808c-770c863b832b",
   "metadata": {},
   "outputs": [
    {
     "data": {
      "text/html": [
       "<div>\n",
       "<style scoped>\n",
       "    .dataframe tbody tr th:only-of-type {\n",
       "        vertical-align: middle;\n",
       "    }\n",
       "\n",
       "    .dataframe tbody tr th {\n",
       "        vertical-align: top;\n",
       "    }\n",
       "\n",
       "    .dataframe thead th {\n",
       "        text-align: right;\n",
       "    }\n",
       "</style>\n",
       "<table border=\"1\" class=\"dataframe\">\n",
       "  <thead>\n",
       "    <tr style=\"text-align: right;\">\n",
       "      <th></th>\n",
       "      <th>user_id</th>\n",
       "      <th>actual</th>\n",
       "      <th>Item_item_recommendations</th>\n",
       "    </tr>\n",
       "  </thead>\n",
       "  <tbody>\n",
       "    <tr>\n",
       "      <th>0</th>\n",
       "      <td>1</td>\n",
       "      <td>[853529, 865456, 867607, 872137, 874905, 87524...</td>\n",
       "      <td>[909714, 974204, 1138596, 898121, 920025, 8356...</td>\n",
       "    </tr>\n",
       "    <tr>\n",
       "      <th>1</th>\n",
       "      <td>2</td>\n",
       "      <td>[15830248, 838136, 839656, 861272, 866211, 870...</td>\n",
       "      <td>[850601, 7152319, 9553382, 986912, 1056933, 10...</td>\n",
       "    </tr>\n",
       "    <tr>\n",
       "      <th>2</th>\n",
       "      <td>4</td>\n",
       "      <td>[883932, 970760, 1035676, 1055863, 1097610, 67...</td>\n",
       "      <td>[995965, 1101010, 1065538, 923169, 866211, 926...</td>\n",
       "    </tr>\n",
       "  </tbody>\n",
       "</table>\n",
       "</div>"
      ],
      "text/plain": [
       "   user_id                                             actual  \\\n",
       "0        1  [853529, 865456, 867607, 872137, 874905, 87524...   \n",
       "1        2  [15830248, 838136, 839656, 861272, 866211, 870...   \n",
       "2        4  [883932, 970760, 1035676, 1055863, 1097610, 67...   \n",
       "\n",
       "                           Item_item_recommendations  \n",
       "0  [909714, 974204, 1138596, 898121, 920025, 8356...  \n",
       "1  [850601, 7152319, 9553382, 986912, 1056933, 10...  \n",
       "2  [995965, 1101010, 1065538, 923169, 866211, 926...  "
      ]
     },
     "execution_count": 10,
     "metadata": {},
     "output_type": "execute_result"
    }
   ],
   "source": [
    "result_lvl_1['Item_item_recommendations'] = result_lvl_1['user_id'].map(result_all_recomendations_dict[2])\n",
    "result_lvl_1.head(3)"
   ]
  },
  {
   "cell_type": "markdown",
   "id": "0e82eea3-8e64-470e-8dce-9618650ca6d9",
   "metadata": {},
   "source": [
    "Теперь для второго этапа формируем тренировочный и тестовый датасеты и посмотрим на них:"
   ]
  },
  {
   "cell_type": "code",
   "execution_count": 11,
   "id": "df2d9864-f81e-47e2-984f-4ae3a9bcd08e",
   "metadata": {},
   "outputs": [],
   "source": [
    "def create_targets(data_lvl_2, train_data_lvl_1, item_feats, user_feats):\n",
    "    \"\"\"функция формирует датафрейм для второго алгоритма\"\"\"\n",
    "    \n",
    "    users_lvl_2 = pd.DataFrame(data_lvl_2['user_id'].unique())\n",
    "    users_lvl_2.columns = ['user_id']\n",
    "    train_users = train_data_lvl_1['user_id'].unique()\n",
    "    users_lvl_2 = users_lvl_2[users_lvl_2['user_id'].isin(train_users)]\n",
    "    \n",
    "    recs = result_lvl_1[result_lvl_1['user_id'].isin(users_lvl_2['user_id'])][['user_id', 'Item_item_recommendations']]\n",
    "    users_lvl_2 = users_lvl_2.merge(recs, on='user_id', how='left')\n",
    "    users_lvl_2.dropna(subset=['Item_item_recommendations'], inplace=True) # на случай, если попались пропуски\n",
    "    users_lvl_2.rename(columns={'Item_item_recommendations': 'candidates'}, inplace=True)\n",
    "    \n",
    "    s = users_lvl_2.apply(lambda x: pd.Series(x['candidates']), axis=1).stack().reset_index(level=1, drop=True)\n",
    "    s.name = 'item_id'\n",
    "    \n",
    "    users_lvl_2 = users_lvl_2.drop('candidates', axis=1).join(s)\n",
    "    users_lvl_2['flag'] = 1\n",
    "    \n",
    "    targets = data_lvl_2[['user_id', 'item_id']].copy()\n",
    "    targets['target'] = 1\n",
    "    targets = users_lvl_2.merge(targets, on=['user_id', 'item_id'], how='left')\n",
    "    targets['target'].fillna(0, inplace= True)\n",
    "    targets.drop('flag', axis=1, inplace=True)\n",
    "    targets = targets.merge(item_feats, on='item_id', how='left')\n",
    "    targets = targets.merge(user_feats, on='user_id', how='left')\n",
    "    \n",
    "    return targets"
   ]
  },
  {
   "cell_type": "code",
   "execution_count": 12,
   "id": "1cc49c0a-2338-4877-b68e-855131b6f749",
   "metadata": {},
   "outputs": [
    {
     "data": {
      "text/html": [
       "<div>\n",
       "<style scoped>\n",
       "    .dataframe tbody tr th:only-of-type {\n",
       "        vertical-align: middle;\n",
       "    }\n",
       "\n",
       "    .dataframe tbody tr th {\n",
       "        vertical-align: top;\n",
       "    }\n",
       "\n",
       "    .dataframe thead th {\n",
       "        text-align: right;\n",
       "    }\n",
       "</style>\n",
       "<table border=\"1\" class=\"dataframe\">\n",
       "  <thead>\n",
       "    <tr style=\"text-align: right;\">\n",
       "      <th></th>\n",
       "      <th>user_id</th>\n",
       "      <th>item_id</th>\n",
       "      <th>target</th>\n",
       "      <th>manufacturer</th>\n",
       "      <th>department</th>\n",
       "      <th>brand</th>\n",
       "      <th>commodity_desc</th>\n",
       "      <th>sub_commodity_desc</th>\n",
       "      <th>curr_size_of_product</th>\n",
       "      <th>age_desc</th>\n",
       "      <th>marital_status_code</th>\n",
       "      <th>income_desc</th>\n",
       "      <th>homeowner_desc</th>\n",
       "      <th>hh_comp_desc</th>\n",
       "      <th>household_size_desc</th>\n",
       "      <th>kid_category_desc</th>\n",
       "    </tr>\n",
       "  </thead>\n",
       "  <tbody>\n",
       "    <tr>\n",
       "      <th>0</th>\n",
       "      <td>2070</td>\n",
       "      <td>916990</td>\n",
       "      <td>0.0</td>\n",
       "      <td>103</td>\n",
       "      <td>GROCERY</td>\n",
       "      <td>National</td>\n",
       "      <td>SOFT DRINKS</td>\n",
       "      <td>SFT DRNK MLT-PK BTL CARB (EXCP</td>\n",
       "      <td>24 OZ</td>\n",
       "      <td>45-54</td>\n",
       "      <td>U</td>\n",
       "      <td>50-74K</td>\n",
       "      <td>Unknown</td>\n",
       "      <td>Unknown</td>\n",
       "      <td>1</td>\n",
       "      <td>None/Unknown</td>\n",
       "    </tr>\n",
       "    <tr>\n",
       "      <th>1</th>\n",
       "      <td>2070</td>\n",
       "      <td>862535</td>\n",
       "      <td>0.0</td>\n",
       "      <td>794</td>\n",
       "      <td>GROCERY</td>\n",
       "      <td>National</td>\n",
       "      <td>COLD CEREAL</td>\n",
       "      <td>ALL FAMILY CEREAL</td>\n",
       "      <td>16.5 OZ</td>\n",
       "      <td>45-54</td>\n",
       "      <td>U</td>\n",
       "      <td>50-74K</td>\n",
       "      <td>Unknown</td>\n",
       "      <td>Unknown</td>\n",
       "      <td>1</td>\n",
       "      <td>None/Unknown</td>\n",
       "    </tr>\n",
       "  </tbody>\n",
       "</table>\n",
       "</div>"
      ],
      "text/plain": [
       "   user_id  item_id  target  manufacturer department     brand commodity_desc  \\\n",
       "0     2070   916990     0.0           103    GROCERY  National    SOFT DRINKS   \n",
       "1     2070   862535     0.0           794    GROCERY  National    COLD CEREAL   \n",
       "\n",
       "               sub_commodity_desc curr_size_of_product age_desc  \\\n",
       "0  SFT DRNK MLT-PK BTL CARB (EXCP                24 OZ    45-54   \n",
       "1               ALL FAMILY CEREAL              16.5 OZ    45-54   \n",
       "\n",
       "  marital_status_code income_desc homeowner_desc hh_comp_desc  \\\n",
       "0                   U      50-74K        Unknown      Unknown   \n",
       "1                   U      50-74K        Unknown      Unknown   \n",
       "\n",
       "  household_size_desc kid_category_desc  \n",
       "0                   1      None/Unknown  \n",
       "1                   1      None/Unknown  "
      ]
     },
     "execution_count": 12,
     "metadata": {},
     "output_type": "execute_result"
    }
   ],
   "source": [
    "targets_lvl_2 = create_targets(data_train_lvl_2, data_train_lvl_1, item_features, user_features)\n",
    "targets_lvl_2.head(2)"
   ]
  },
  {
   "cell_type": "code",
   "execution_count": 13,
   "id": "86c2f852-b9d1-459b-8d41-057f4354be68",
   "metadata": {},
   "outputs": [
    {
     "data": {
      "text/html": [
       "<div>\n",
       "<style scoped>\n",
       "    .dataframe tbody tr th:only-of-type {\n",
       "        vertical-align: middle;\n",
       "    }\n",
       "\n",
       "    .dataframe tbody tr th {\n",
       "        vertical-align: top;\n",
       "    }\n",
       "\n",
       "    .dataframe thead th {\n",
       "        text-align: right;\n",
       "    }\n",
       "</style>\n",
       "<table border=\"1\" class=\"dataframe\">\n",
       "  <thead>\n",
       "    <tr style=\"text-align: right;\">\n",
       "      <th></th>\n",
       "      <th>user_id</th>\n",
       "      <th>item_id</th>\n",
       "      <th>target</th>\n",
       "      <th>manufacturer</th>\n",
       "      <th>department</th>\n",
       "      <th>brand</th>\n",
       "      <th>commodity_desc</th>\n",
       "      <th>sub_commodity_desc</th>\n",
       "      <th>curr_size_of_product</th>\n",
       "      <th>age_desc</th>\n",
       "      <th>marital_status_code</th>\n",
       "      <th>income_desc</th>\n",
       "      <th>homeowner_desc</th>\n",
       "      <th>hh_comp_desc</th>\n",
       "      <th>household_size_desc</th>\n",
       "      <th>kid_category_desc</th>\n",
       "    </tr>\n",
       "  </thead>\n",
       "  <tbody>\n",
       "    <tr>\n",
       "      <th>0</th>\n",
       "      <td>338</td>\n",
       "      <td>899624</td>\n",
       "      <td>0.0</td>\n",
       "      <td>69</td>\n",
       "      <td>PRODUCE</td>\n",
       "      <td>Private</td>\n",
       "      <td>POTATOES</td>\n",
       "      <td>POTATOES RUSSET (BULK&amp;BAG)</td>\n",
       "      <td>10 LB</td>\n",
       "      <td>NaN</td>\n",
       "      <td>NaN</td>\n",
       "      <td>NaN</td>\n",
       "      <td>NaN</td>\n",
       "      <td>NaN</td>\n",
       "      <td>NaN</td>\n",
       "      <td>NaN</td>\n",
       "    </tr>\n",
       "    <tr>\n",
       "      <th>1</th>\n",
       "      <td>338</td>\n",
       "      <td>1107760</td>\n",
       "      <td>0.0</td>\n",
       "      <td>111</td>\n",
       "      <td>DRUG GM</td>\n",
       "      <td>National</td>\n",
       "      <td>CIGARETTES</td>\n",
       "      <td>CIGARETTES</td>\n",
       "      <td>CTN</td>\n",
       "      <td>NaN</td>\n",
       "      <td>NaN</td>\n",
       "      <td>NaN</td>\n",
       "      <td>NaN</td>\n",
       "      <td>NaN</td>\n",
       "      <td>NaN</td>\n",
       "      <td>NaN</td>\n",
       "    </tr>\n",
       "  </tbody>\n",
       "</table>\n",
       "</div>"
      ],
      "text/plain": [
       "   user_id  item_id  target  manufacturer department     brand commodity_desc  \\\n",
       "0      338   899624     0.0            69    PRODUCE   Private       POTATOES   \n",
       "1      338  1107760     0.0           111    DRUG GM  National     CIGARETTES   \n",
       "\n",
       "           sub_commodity_desc curr_size_of_product age_desc  \\\n",
       "0  POTATOES RUSSET (BULK&BAG)                10 LB      NaN   \n",
       "1                  CIGARETTES                  CTN      NaN   \n",
       "\n",
       "  marital_status_code income_desc homeowner_desc hh_comp_desc  \\\n",
       "0                 NaN         NaN            NaN          NaN   \n",
       "1                 NaN         NaN            NaN          NaN   \n",
       "\n",
       "  household_size_desc kid_category_desc  \n",
       "0                 NaN               NaN  \n",
       "1                 NaN               NaN  "
      ]
     },
     "execution_count": 13,
     "metadata": {},
     "output_type": "execute_result"
    }
   ],
   "source": [
    "test_targets_lvl_2 = create_targets(data_val_lvl_2, data_train_lvl_1, item_features, user_features)\n",
    "test_targets_lvl_2.head(2)"
   ]
  },
  {
   "cell_type": "markdown",
   "id": "c3d102b7-5b1a-43ca-ad99-ecfa99bd92c7",
   "metadata": {},
   "source": [
    "Генерируем новые признаки:"
   ]
  },
  {
   "cell_type": "code",
   "execution_count": 14,
   "id": "f821d5bd-835a-41f2-a172-4bf29b40a2af",
   "metadata": {},
   "outputs": [],
   "source": [
    "# Новые признаки по пользователю:\n",
    "# Средняя сумма трат пользователя в каждой категории товаров (department);\n",
    "user_mean_spending = targets_lvl_2.groupby(['user_id', 'department'])['target'].mean().reset_index()\n",
    "user_mean_spending.rename(columns={'target': 'user_mean_spending'}, inplace=True)\n",
    "targets_lvl_2 = pd.merge(targets_lvl_2, user_mean_spending, on=['user_id', 'department'], how='left')\n",
    "test_targets_lvl_2 = pd.merge(test_targets_lvl_2, user_mean_spending, on=['user_id', 'department'], how='left')\n",
    "\n",
    "# Количество уникальных брендов, которые купил пользователь.\n",
    "user_unique_brands = targets_lvl_2.groupby('user_id')['brand'].nunique().reset_index()\n",
    "user_unique_brands.rename(columns={'brand': 'user_unique_brands'}, inplace=True)\n",
    "targets_lvl_2 = pd.merge(targets_lvl_2, user_unique_brands, on='user_id', how='left')\n",
    "test_targets_lvl_2 = pd.merge(test_targets_lvl_2, user_unique_brands, on='user_id', how='left')\n",
    "\n",
    "# Новые признаки по товару:\n",
    "# Цена за единицу продукта;\n",
    "price_per_unit = data.groupby('item_id')['sales_value'].mean() / data.groupby('item_id')['quantity'].mean()\n",
    "price_per_unit = price_per_unit.reset_index()\n",
    "price_per_unit.rename(columns={0: 'price_per_unit'}, inplace=True)\n",
    "targets_lvl_2 = pd.merge(targets_lvl_2, price_per_unit, on='item_id', how='left')\n",
    "test_targets_lvl_2 = pd.merge(test_targets_lvl_2, price_per_unit, on='item_id', how='left')\n",
    "\n",
    "# Доля продаж данного товара от общего количества продаж в его категории товаров.\n",
    "item_sales_share = targets_lvl_2.groupby(['department', 'item_id'])['target'].sum() / targets_lvl_2.groupby('department')['target'].sum()\n",
    "item_sales_share = item_sales_share.reset_index()\n",
    "item_sales_share.rename(columns={'target': 'item_sales_share'}, inplace=True)\n",
    "targets_lvl_2 = pd.merge(targets_lvl_2, item_sales_share, on=['department', 'item_id'], how='left')\n",
    "test_targets_lvl_2 = pd.merge(test_targets_lvl_2, item_sales_share, on=['department', 'item_id'], how='left')\n",
    "\n",
    "\n",
    "# Новые признаки по паре user-item:\n",
    "# Количество покупок данного товара пользователем;\n",
    "user_item_purchases = targets_lvl_2.groupby(['user_id', 'item_id'])['target'].count().reset_index()\n",
    "user_item_purchases.rename(columns={'target': 'user_item_purchases'}, inplace=True)\n",
    "targets_lvl_2 = pd.merge(targets_lvl_2, user_item_purchases, on=['user_id', 'item_id'], how='left')\n",
    "test_targets_lvl_2 = pd.merge(test_targets_lvl_2, user_item_purchases, on=['user_id', 'item_id'], how='left')"
   ]
  },
  {
   "cell_type": "markdown",
   "id": "acef0918-260f-4e4d-9bf7-016079b4859f",
   "metadata": {},
   "source": [
    "Сформируем предсказание и посчитаем для него метрику:"
   ]
  },
  {
   "cell_type": "code",
   "execution_count": 15,
   "id": "eb982ffc-6cd0-4b85-adce-3e06c41b732a",
   "metadata": {},
   "outputs": [
    {
     "name": "stdout",
     "output_type": "stream",
     "text": [
      "среднее AP@10 = 0.0840\n",
      "средний Recall@10 = 0.3752\n"
     ]
    }
   ],
   "source": [
    "target = 'target'\n",
    "num_columns = ['manufacturer', 'user_mean_spending', 'user_unique_brands',\n",
    "              'price_per_unit', 'item_sales_share', 'user_item_purchases']\n",
    "\n",
    "cat_columns = ['department', 'brand', 'commodity_desc',\n",
    "            'sub_commodity_desc', 'sub_commodity_desc', 'age_desc',\n",
    "            'marital_status_code', 'income_desc', 'homeowner_desc',\n",
    "            'hh_comp_desc', 'household_size_desc', 'kid_category_desc']\n",
    "\n",
    "def replace_col_names(df):\n",
    "    pattern = \"[^A-Za-z0-9_]+\"\n",
    "    new_cols = []\n",
    "    for col in df.columns:\n",
    "        new_col = re.sub(pattern, \"_\", col)\n",
    "        new_cols.append(new_col)\n",
    "    df.columns = new_cols\n",
    "    return df\n",
    "\n",
    "encoded_cat_columns_train = pd.get_dummies(targets_lvl_2[cat_columns], prefix=cat_columns, drop_first=True)\n",
    "train_data = pd.concat([targets_lvl_2[num_columns], encoded_cat_columns_train], axis=1)\n",
    "\n",
    "encoded_cat_columns_test = pd.get_dummies(test_targets_lvl_2[cat_columns], prefix=cat_columns, drop_first=True)\n",
    "test_data = pd.concat([test_targets_lvl_2[num_columns], encoded_cat_columns_test], axis=1)\n",
    "\n",
    "train_data = train_data.loc[:, ~train_data.columns.duplicated(keep='last')]\n",
    "test_data = test_data.loc[:, ~test_data.columns.duplicated(keep='last')]\n",
    "\n",
    "train_data = replace_col_names(train_data)\n",
    "test_data = replace_col_names(test_data)\n",
    "\n",
    "# Разделение выборки на обучающую и тестовую\n",
    "train_labels = targets_lvl_2[target]\n",
    "test_labels = test_targets_lvl_2[target]\n",
    "\n",
    "params = {\n",
    "    'boosting_type': 'gbdt',\n",
    "    'n_estimators': 100,\n",
    "    'objective': 'binary',\n",
    "    'metric': 'auc',\n",
    "    'max_depth': 5,\n",
    "    'num_leaves': 31,\n",
    "    'learning_rate': 0.05,\n",
    "    'verbose': -1\n",
    "}\n",
    "\n",
    "# Обучение модели\n",
    "model = lgb.LGBMClassifier(**params)\n",
    "model.fit(train_data, train_labels)\n",
    "\n",
    "# Получение прогнозов и ранжирование рекомендаций для каждого пользователя\n",
    "preds = model.predict_proba(test_data)[:, 1]  # вероятности класса \"1\"\n",
    "test_targets_lvl_2['score'] = preds\n",
    "test_targets_lvl_2['rank'] = test_targets_lvl_2.groupby('user_id')['score'].rank(ascending=False)\n",
    "\n",
    "# Выбор топ-10 рекомендаций для каждого пользователя\n",
    "top_k = 10\n",
    "recommendations = (\n",
    "    test_targets_lvl_2.query(f'rank <= {top_k}')\n",
    "    .groupby('user_id')['item_id']\n",
    "    .apply(list)\n",
    "    .reset_index()\n",
    ")\n",
    "\n",
    "# Подсчет метрики AP@K\n",
    "true_values = test_targets_lvl_2.query('target == 1').groupby('user_id')['item_id'].apply(list)\n",
    "recommended_values = recommendations.set_index('user_id')['item_id']\n",
    "\n",
    "ap_k_scores, recall_at_k_scores = [], []\n",
    "for user_id in true_values.index:\n",
    "    recommended_list = recommended_values.get(user_id, [])\n",
    "    if len(recommended_list) >= top_k:\n",
    "        ap_k_score = ap_k(recommended_list, true_values[user_id], k=top_k)\n",
    "        recall_at_k_score = recall_at_k(recommended_list, true_values[user_id], k=top_k)\n",
    "        ap_k_scores.append(ap_k_score)\n",
    "        recall_at_k_scores.append(recall_at_k_score)\n",
    "\n",
    "mean_ap_k_score = np.mean(ap_k_scores)\n",
    "mean_recall_at_k_score = np.mean(recall_at_k_scores)\n",
    "print(f'среднее AP@{top_k} = {mean_ap_k_score:.4f}\\nсредний Recall@{top_k} = {mean_recall_at_k_score:.4f}')"
   ]
  },
  {
   "cell_type": "markdown",
   "id": "c372f916-13c8-4573-8bfa-01f39be8aba8",
   "metadata": {},
   "source": [
    "_____"
   ]
  },
  {
   "cell_type": "markdown",
   "id": "5d4b149d-ea86-4260-97fa-b84b90a83efd",
   "metadata": {},
   "source": [
    "### Вывод\n",
    "\n",
    "Recall@k вырос более чем в 2 раза от лучших значений одноуровневого алгоритма при аж 500 реокомендациях, а сейчас мы на первом уровне оставили по 100 рекомендаций, а на втором 10 и получили такие хорошие попадания, а значит алгоритм работает и работает исправно."
   ]
  },
  {
   "cell_type": "markdown",
   "id": "e947db9b-3fd7-4464-a1a2-0e4ca4768a6c",
   "metadata": {},
   "source": [
    "_____"
   ]
  }
 ],
 "metadata": {
  "kernelspec": {
   "display_name": "Python 3 (ipykernel)",
   "language": "python",
   "name": "python3"
  },
  "language_info": {
   "codemirror_mode": {
    "name": "ipython",
    "version": 3
   },
   "file_extension": ".py",
   "mimetype": "text/x-python",
   "name": "python",
   "nbconvert_exporter": "python",
   "pygments_lexer": "ipython3",
   "version": "3.9.13"
  }
 },
 "nbformat": 4,
 "nbformat_minor": 5
}
