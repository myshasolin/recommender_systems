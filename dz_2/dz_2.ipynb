{
 "cells": [
  {
   "cell_type": "markdown",
   "metadata": {},
   "source": [
    "### Задание 1. Напишите код для случайных рекомендаций, в которых вероятность рекомендовать товар прямо пропорциональна логарифму продаж\n",
    "\n",
    "### Задание 2. Рассчитайте Precision@5 для каждого алгоритма с помощью функции из вебинара 1. Какой алгоритм показывает лучшее качество?\n",
    "\n",
    "### Задание 3*. Улучшение бейзлайнов и ItemItem\n",
    "\n",
    "- Попробуйте улучшить бейзлайны, считая их на топ-5000 товаров\n",
    "- Попробуйте улучшить разные варианты ItemItemRecommender, выбирая число соседей $K$."
   ]
  },
  {
   "cell_type": "markdown",
   "metadata": {},
   "source": [
    "_____"
   ]
  },
  {
   "cell_type": "markdown",
   "metadata": {},
   "source": [
    "### Решение:"
   ]
  },
  {
   "cell_type": "markdown",
   "metadata": {},
   "source": [
    "пройдёмся по всем рассмотренным на уроке алгоритмам, сформируем по ним рекомендации в следующих параметрах:\n",
    "- **для бейзлайнов**:\n",
    "  - `Random recommendation`:\n",
    "    - precision@3, precision@5, recall@3, recall@5 на всех товарах\n",
    "    - precision@3, precision@5, recall@3, recall@5 на ТОП-500 товарах\n",
    "  - `Popularity-based recommendation`:\n",
    "    - precision@3, precision@5, recall@3, recall@5\n",
    "  - `Weighted random recommender`:\n",
    "    - precision@3, precision@5, recall@3, recall@5\n",
    "- **для детерминированных алгоритмов item-item (ItemItemRecommender, CosineRecommender, TFIDFRecommender, BM25Recommender)**:\n",
    "  - `ТОП 2000`:\n",
    "    - precision@3, precision@5, recall@3, recall@5\n",
    "  - `ТОП 5000`:\n",
    "    - precision@3, precision@5, recall@3, recall@5\n",
    "  - `ТОП 10000`:\n",
    "    - precision@3, precision@5, recall@3, recall@5"
   ]
  },
  {
   "cell_type": "markdown",
   "metadata": {},
   "source": [
    "Импортируем библиотеки:"
   ]
  },
  {
   "cell_type": "code",
   "execution_count": 1,
   "metadata": {
    "colab": {},
    "colab_type": "code",
    "id": "rgIzW-DSC8Yi"
   },
   "outputs": [],
   "source": [
    "import pandas as pd\n",
    "import numpy as np\n",
    "\n",
    "import matplotlib.pyplot as plt\n",
    "%matplotlib inline\n",
    "\n",
    "# Для работы с матрицами\n",
    "from scipy.sparse import csr_matrix #, coo_matrix\n",
    "\n",
    "# Детерминированные алгоритмы\n",
    "from implicit.nearest_neighbours import (ItemItemRecommender, CosineRecommender, \n",
    "                                         TFIDFRecommender, BM25Recommender)\n",
    "import warnings\n",
    "warnings.filterwarnings('ignore')"
   ]
  },
  {
   "cell_type": "markdown",
   "metadata": {},
   "source": [
    "Качаем данные и смотрим на них:"
   ]
  },
  {
   "cell_type": "code",
   "execution_count": 2,
   "metadata": {
    "colab": {},
    "colab_type": "code",
    "id": "9qFkcgyrC8Yt",
    "outputId": "24a33bf1-942a-4b18-c54a-a7500c8f8712"
   },
   "outputs": [
    {
     "data": {
      "text/html": [
       "<div>\n",
       "<style scoped>\n",
       "    .dataframe tbody tr th:only-of-type {\n",
       "        vertical-align: middle;\n",
       "    }\n",
       "\n",
       "    .dataframe tbody tr th {\n",
       "        vertical-align: top;\n",
       "    }\n",
       "\n",
       "    .dataframe thead th {\n",
       "        text-align: right;\n",
       "    }\n",
       "</style>\n",
       "<table border=\"1\" class=\"dataframe\">\n",
       "  <thead>\n",
       "    <tr style=\"text-align: right;\">\n",
       "      <th></th>\n",
       "      <th>user_id</th>\n",
       "      <th>basket_id</th>\n",
       "      <th>day</th>\n",
       "      <th>item_id</th>\n",
       "      <th>quantity</th>\n",
       "      <th>sales_value</th>\n",
       "      <th>store_id</th>\n",
       "      <th>retail_disc</th>\n",
       "      <th>trans_time</th>\n",
       "      <th>week_no</th>\n",
       "      <th>coupon_disc</th>\n",
       "      <th>coupon_match_disc</th>\n",
       "    </tr>\n",
       "  </thead>\n",
       "  <tbody>\n",
       "    <tr>\n",
       "      <th>0</th>\n",
       "      <td>2375</td>\n",
       "      <td>26984851472</td>\n",
       "      <td>1</td>\n",
       "      <td>1004906</td>\n",
       "      <td>1</td>\n",
       "      <td>1.39</td>\n",
       "      <td>364</td>\n",
       "      <td>-0.6</td>\n",
       "      <td>1631</td>\n",
       "      <td>1</td>\n",
       "      <td>0.0</td>\n",
       "      <td>0.0</td>\n",
       "    </tr>\n",
       "    <tr>\n",
       "      <th>1</th>\n",
       "      <td>2375</td>\n",
       "      <td>26984851472</td>\n",
       "      <td>1</td>\n",
       "      <td>1033142</td>\n",
       "      <td>1</td>\n",
       "      <td>0.82</td>\n",
       "      <td>364</td>\n",
       "      <td>0.0</td>\n",
       "      <td>1631</td>\n",
       "      <td>1</td>\n",
       "      <td>0.0</td>\n",
       "      <td>0.0</td>\n",
       "    </tr>\n",
       "  </tbody>\n",
       "</table>\n",
       "</div>"
      ],
      "text/plain": [
       "   user_id    basket_id  day  item_id  quantity  sales_value  store_id  \\\n",
       "0     2375  26984851472    1  1004906         1         1.39       364   \n",
       "1     2375  26984851472    1  1033142         1         0.82       364   \n",
       "\n",
       "   retail_disc  trans_time  week_no  coupon_disc  coupon_match_disc  \n",
       "0         -0.6        1631        1          0.0                0.0  \n",
       "1          0.0        1631        1          0.0                0.0  "
      ]
     },
     "execution_count": 2,
     "metadata": {},
     "output_type": "execute_result"
    }
   ],
   "source": [
    "data = pd.read_csv('retail_train.csv')\n",
    "data.head(2)"
   ]
  },
  {
   "cell_type": "markdown",
   "metadata": {},
   "source": [
    "Разобьём датасет на тренировочную и тестовую выборки, оставив в тестовой последние 3 недели:"
   ]
  },
  {
   "cell_type": "code",
   "execution_count": 3,
   "metadata": {
    "colab": {},
    "colab_type": "code",
    "id": "epcBZlgJC8Y0"
   },
   "outputs": [],
   "source": [
    "data_train = data[data['week_no'] < data['week_no'].max() - 3]\n",
    "data_test = data[data['week_no'] >= data['week_no'].max() - 3]"
   ]
  },
  {
   "cell_type": "markdown",
   "metadata": {},
   "source": [
    "Создадим датафрейм с покупками юзеров на тестовом датасете и посмотрим на его вид:"
   ]
  },
  {
   "cell_type": "code",
   "execution_count": 4,
   "metadata": {},
   "outputs": [
    {
     "data": {
      "text/html": [
       "<div>\n",
       "<style scoped>\n",
       "    .dataframe tbody tr th:only-of-type {\n",
       "        vertical-align: middle;\n",
       "    }\n",
       "\n",
       "    .dataframe tbody tr th {\n",
       "        vertical-align: top;\n",
       "    }\n",
       "\n",
       "    .dataframe thead th {\n",
       "        text-align: right;\n",
       "    }\n",
       "</style>\n",
       "<table border=\"1\" class=\"dataframe\">\n",
       "  <thead>\n",
       "    <tr style=\"text-align: right;\">\n",
       "      <th></th>\n",
       "      <th>user_id</th>\n",
       "      <th>actual</th>\n",
       "    </tr>\n",
       "  </thead>\n",
       "  <tbody>\n",
       "    <tr>\n",
       "      <th>0</th>\n",
       "      <td>1</td>\n",
       "      <td>[821867, 834484, 856942, 865456, 889248, 90795...</td>\n",
       "    </tr>\n",
       "    <tr>\n",
       "      <th>1</th>\n",
       "      <td>3</td>\n",
       "      <td>[835476, 851057, 872021, 878302, 879948, 90963...</td>\n",
       "    </tr>\n",
       "  </tbody>\n",
       "</table>\n",
       "</div>"
      ],
      "text/plain": [
       "   user_id                                             actual\n",
       "0        1  [821867, 834484, 856942, 865456, 889248, 90795...\n",
       "1        3  [835476, 851057, 872021, 878302, 879948, 90963..."
      ]
     },
     "execution_count": 4,
     "metadata": {},
     "output_type": "execute_result"
    }
   ],
   "source": [
    "result = data_test.groupby('user_id')['item_id'].unique().reset_index()\n",
    "result.columns=['user_id', 'actual']\n",
    "result.head(2)"
   ]
  },
  {
   "cell_type": "markdown",
   "metadata": {},
   "source": [
    "создадим:\n",
    "- items - товаров\n",
    "- items_top_500 - ТОП-500 товаров"
   ]
  },
  {
   "cell_type": "code",
   "execution_count": 5,
   "metadata": {},
   "outputs": [
    {
     "name": "stdout",
     "output_type": "stream",
     "text": [
      "len(items)=86865\n",
      "len(items_top_500)=500\n"
     ]
    }
   ],
   "source": [
    "items = data_train.item_id.unique()\n",
    "\n",
    "# Создаем список всех товаров\n",
    "all_items = []\n",
    "for i in result['actual']:\n",
    "    all_items.extend(i)\n",
    "\n",
    "# Считаем количество упоминаний каждого товара\n",
    "item_count = {}\n",
    "for item in all_items:\n",
    "    if item in item_count:\n",
    "        item_count[item] += 1\n",
    "    else:\n",
    "        item_count[item] = 1\n",
    "\n",
    "# Сортируем товары по количеству упоминаний и оставляем только ТОП-500 товаров\n",
    "top_items = sorted(item_count.items(), key=lambda x: x[1], reverse=True)[:500]\n",
    "items_top_500 = np.array([item[0] for item in top_items])\n",
    "\n",
    "print(f'{len(items)=}\\n{len(items_top_500)=}')"
   ]
  },
  {
   "cell_type": "markdown",
   "metadata": {},
   "source": [
    "Создадим пустой датафрейм-сводную таблицу, в него будем собирать значения метрик:"
   ]
  },
  {
   "cell_type": "code",
   "execution_count": 6,
   "metadata": {},
   "outputs": [],
   "source": [
    "result_table = pd.DataFrame({'name': [], 'precision@3': [], 'precision@5': [], \n",
    "                             'recall@3': [], 'recall@5': []})"
   ]
  },
  {
   "cell_type": "markdown",
   "metadata": {},
   "source": [
    "А вот функции для подсчёта метрик `precision_at_k` и `recall_at_k`:"
   ]
  },
  {
   "cell_type": "code",
   "execution_count": 7,
   "metadata": {},
   "outputs": [],
   "source": [
    "def precision_at_k(recommended_list, bought_list, k):\n",
    "    flags = np.isin(np.array(recommended_list)[:k], np.array(bought_list))\n",
    "    return flags.sum() / len(recommended_list)\n",
    "\n",
    "def recall_at_k(recommended_list, bought_list, k):\n",
    "    flags = np.isin(np.array(recommended_list)[:k], np.array(bought_list))\n",
    "    return flags.sum() / len(bought_list)"
   ]
  },
  {
   "cell_type": "markdown",
   "metadata": {},
   "source": [
    "теперь алгоритмы:"
   ]
  },
  {
   "cell_type": "markdown",
   "metadata": {},
   "source": [
    "# Бейзлайны "
   ]
  },
  {
   "cell_type": "markdown",
   "metadata": {},
   "source": [
    "## Random recommendation"
   ]
  },
  {
   "cell_type": "code",
   "execution_count": 8,
   "metadata": {},
   "outputs": [],
   "source": [
    "def random_recommendation(items, n=5):\n",
    "    \"\"\"Случайные рекоммендации\"\"\"\n",
    "    \n",
    "    recs = np.random.choice(np.array(items), size=n, replace=False)\n",
    "    return recs.tolist()"
   ]
  },
  {
   "cell_type": "code",
   "execution_count": 9,
   "metadata": {},
   "outputs": [],
   "source": [
    "def get_random_recommendation(col_name, items, result_table=result_table):\n",
    "    precision_list, recall_list = [], []\n",
    "    for num in [3, 5]:\n",
    "        result[col_name] =\\\n",
    "            result['user_id'].apply(lambda x: random_recommendation(items, n=num))\n",
    "        precision_list.append(\n",
    "            result.apply(lambda row: precision_at_k(row[col_name], row['actual'], k=num), axis=1).mean())\n",
    "        recall_list.append(\n",
    "            result.apply(lambda row: recall_at_k(row[col_name], row['actual'], k=num), axis=1).mean())\n",
    "\n",
    "    result_table.loc[len(result_table)] = [col_name, precision_list[0], precision_list[1], \n",
    "                                           recall_list[0], recall_list[1]]"
   ]
  },
  {
   "cell_type": "markdown",
   "metadata": {},
   "source": [
    "Получим рекомендации и посчитаем метрики для precision@3, precision@5, recall@3, recall@5 на всех товарах и ТОП-500 товарах, выведем значения метрик в таблице:"
   ]
  },
  {
   "cell_type": "code",
   "execution_count": 10,
   "metadata": {},
   "outputs": [
    {
     "data": {
      "text/plain": [
       "'рекомендации:'"
      ]
     },
     "metadata": {},
     "output_type": "display_data"
    },
    {
     "data": {
      "text/html": [
       "<div>\n",
       "<style scoped>\n",
       "    .dataframe tbody tr th:only-of-type {\n",
       "        vertical-align: middle;\n",
       "    }\n",
       "\n",
       "    .dataframe tbody tr th {\n",
       "        vertical-align: top;\n",
       "    }\n",
       "\n",
       "    .dataframe thead th {\n",
       "        text-align: right;\n",
       "    }\n",
       "</style>\n",
       "<table border=\"1\" class=\"dataframe\">\n",
       "  <thead>\n",
       "    <tr style=\"text-align: right;\">\n",
       "      <th></th>\n",
       "      <th>user_id</th>\n",
       "      <th>actual</th>\n",
       "      <th>random_recommendation</th>\n",
       "      <th>random_recommendation_top_500</th>\n",
       "    </tr>\n",
       "  </thead>\n",
       "  <tbody>\n",
       "    <tr>\n",
       "      <th>0</th>\n",
       "      <td>1</td>\n",
       "      <td>[821867, 834484, 856942, 865456, 889248, 90795...</td>\n",
       "      <td>[1979672, 6034279, 2393949, 1069306, 2731388]</td>\n",
       "      <td>[937292, 15972074, 883932, 863447, 7442008]</td>\n",
       "    </tr>\n",
       "    <tr>\n",
       "      <th>1</th>\n",
       "      <td>3</td>\n",
       "      <td>[835476, 851057, 872021, 878302, 879948, 90963...</td>\n",
       "      <td>[1978019, 10254544, 1098549, 10356801, 17215077]</td>\n",
       "      <td>[839419, 867188, 1103629, 1060408, 968687]</td>\n",
       "    </tr>\n",
       "  </tbody>\n",
       "</table>\n",
       "</div>"
      ],
      "text/plain": [
       "   user_id                                             actual  \\\n",
       "0        1  [821867, 834484, 856942, 865456, 889248, 90795...   \n",
       "1        3  [835476, 851057, 872021, 878302, 879948, 90963...   \n",
       "\n",
       "                              random_recommendation  \\\n",
       "0     [1979672, 6034279, 2393949, 1069306, 2731388]   \n",
       "1  [1978019, 10254544, 1098549, 10356801, 17215077]   \n",
       "\n",
       "                 random_recommendation_top_500  \n",
       "0  [937292, 15972074, 883932, 863447, 7442008]  \n",
       "1   [839419, 867188, 1103629, 1060408, 968687]  "
      ]
     },
     "metadata": {},
     "output_type": "display_data"
    },
    {
     "data": {
      "text/plain": [
       "'метрики:'"
      ]
     },
     "metadata": {},
     "output_type": "display_data"
    },
    {
     "data": {
      "text/html": [
       "<div>\n",
       "<style scoped>\n",
       "    .dataframe tbody tr th:only-of-type {\n",
       "        vertical-align: middle;\n",
       "    }\n",
       "\n",
       "    .dataframe tbody tr th {\n",
       "        vertical-align: top;\n",
       "    }\n",
       "\n",
       "    .dataframe thead th {\n",
       "        text-align: right;\n",
       "    }\n",
       "</style>\n",
       "<table border=\"1\" class=\"dataframe\">\n",
       "  <thead>\n",
       "    <tr style=\"text-align: right;\">\n",
       "      <th></th>\n",
       "      <th>name</th>\n",
       "      <th>precision@3</th>\n",
       "      <th>precision@5</th>\n",
       "      <th>recall@3</th>\n",
       "      <th>recall@5</th>\n",
       "    </tr>\n",
       "  </thead>\n",
       "  <tbody>\n",
       "    <tr>\n",
       "      <th>0</th>\n",
       "      <td>random_recommendation</td>\n",
       "      <td>0.000979</td>\n",
       "      <td>0.000881</td>\n",
       "      <td>0.000043</td>\n",
       "      <td>0.000084</td>\n",
       "    </tr>\n",
       "    <tr>\n",
       "      <th>1</th>\n",
       "      <td>random_recommendation_top_500</td>\n",
       "      <td>0.027261</td>\n",
       "      <td>0.022723</td>\n",
       "      <td>0.002197</td>\n",
       "      <td>0.002221</td>\n",
       "    </tr>\n",
       "  </tbody>\n",
       "</table>\n",
       "</div>"
      ],
      "text/plain": [
       "                            name  precision@3  precision@5  recall@3  recall@5\n",
       "0          random_recommendation     0.000979     0.000881  0.000043  0.000084\n",
       "1  random_recommendation_top_500     0.027261     0.022723  0.002197  0.002221"
      ]
     },
     "metadata": {},
     "output_type": "display_data"
    }
   ],
   "source": [
    "get_random_recommendation('random_recommendation', items=items)\n",
    "get_random_recommendation('random_recommendation_top_500', items=items_top_500)\n",
    "display('рекомендации:', result.iloc[:, :2].join(result.iloc[:, -2:]).head(2), 'метрики:', result_table)"
   ]
  },
  {
   "cell_type": "markdown",
   "metadata": {},
   "source": [
    "## 1.2 Popularity-based recommendation"
   ]
  },
  {
   "cell_type": "code",
   "execution_count": 11,
   "metadata": {},
   "outputs": [],
   "source": [
    "def popularity_recommendation(data, n):\n",
    "    \"\"\"Топ-n популярных товаров\"\"\"\n",
    "    \n",
    "    popular = data.groupby('item_id')['sales_value'].sum().reset_index()\n",
    "    popular.sort_values('sales_value', ascending=False, inplace=True)\n",
    "    recs = popular.head(n)['item_id']\n",
    "    \n",
    "    return recs.tolist()"
   ]
  },
  {
   "cell_type": "code",
   "execution_count": 12,
   "metadata": {},
   "outputs": [],
   "source": [
    "def get_popularity_recommendation(col_name, result_table=result_table):\n",
    "    precision_list, recall_list = [], []\n",
    "    for num in [3, 5]:\n",
    "        popular_recs = popularity_recommendation(data_train, n=num)\n",
    "        result[col_name] =\\\n",
    "            result['user_id'].apply(lambda x: popular_recs)\n",
    "        precision_list.append(\n",
    "            result.apply(lambda row: precision_at_k(row[col_name], row['actual'], k=num), axis=1).mean())\n",
    "        recall_list.append(\n",
    "            result.apply(lambda row: recall_at_k(row[col_name], row['actual'], k=num), axis=1).mean())\n",
    "\n",
    "    result_table.loc[len(result_table)] = [col_name, precision_list[0], precision_list[1], \n",
    "                                           recall_list[0], recall_list[1]]"
   ]
  },
  {
   "cell_type": "markdown",
   "metadata": {},
   "source": [
    "Здесь нам не нужен ТОП-500, так как он и так формируется в popularity_recommendation:"
   ]
  },
  {
   "cell_type": "code",
   "execution_count": 13,
   "metadata": {},
   "outputs": [
    {
     "data": {
      "text/plain": [
       "'рекомендации:'"
      ]
     },
     "metadata": {},
     "output_type": "display_data"
    },
    {
     "data": {
      "text/html": [
       "<div>\n",
       "<style scoped>\n",
       "    .dataframe tbody tr th:only-of-type {\n",
       "        vertical-align: middle;\n",
       "    }\n",
       "\n",
       "    .dataframe tbody tr th {\n",
       "        vertical-align: top;\n",
       "    }\n",
       "\n",
       "    .dataframe thead th {\n",
       "        text-align: right;\n",
       "    }\n",
       "</style>\n",
       "<table border=\"1\" class=\"dataframe\">\n",
       "  <thead>\n",
       "    <tr style=\"text-align: right;\">\n",
       "      <th></th>\n",
       "      <th>user_id</th>\n",
       "      <th>actual</th>\n",
       "      <th>popularity_recommendation</th>\n",
       "    </tr>\n",
       "  </thead>\n",
       "  <tbody>\n",
       "    <tr>\n",
       "      <th>0</th>\n",
       "      <td>1</td>\n",
       "      <td>[821867, 834484, 856942, 865456, 889248, 90795...</td>\n",
       "      <td>[6534178, 6533889, 1029743, 6534166, 1082185]</td>\n",
       "    </tr>\n",
       "    <tr>\n",
       "      <th>1</th>\n",
       "      <td>3</td>\n",
       "      <td>[835476, 851057, 872021, 878302, 879948, 90963...</td>\n",
       "      <td>[6534178, 6533889, 1029743, 6534166, 1082185]</td>\n",
       "    </tr>\n",
       "  </tbody>\n",
       "</table>\n",
       "</div>"
      ],
      "text/plain": [
       "   user_id                                             actual  \\\n",
       "0        1  [821867, 834484, 856942, 865456, 889248, 90795...   \n",
       "1        3  [835476, 851057, 872021, 878302, 879948, 90963...   \n",
       "\n",
       "                       popularity_recommendation  \n",
       "0  [6534178, 6533889, 1029743, 6534166, 1082185]  \n",
       "1  [6534178, 6533889, 1029743, 6534166, 1082185]  "
      ]
     },
     "metadata": {},
     "output_type": "display_data"
    },
    {
     "data": {
      "text/plain": [
       "'метрики:'"
      ]
     },
     "metadata": {},
     "output_type": "display_data"
    },
    {
     "data": {
      "text/html": [
       "<div>\n",
       "<style scoped>\n",
       "    .dataframe tbody tr th:only-of-type {\n",
       "        vertical-align: middle;\n",
       "    }\n",
       "\n",
       "    .dataframe tbody tr th {\n",
       "        vertical-align: top;\n",
       "    }\n",
       "\n",
       "    .dataframe thead th {\n",
       "        text-align: right;\n",
       "    }\n",
       "</style>\n",
       "<table border=\"1\" class=\"dataframe\">\n",
       "  <thead>\n",
       "    <tr style=\"text-align: right;\">\n",
       "      <th></th>\n",
       "      <th>name</th>\n",
       "      <th>precision@3</th>\n",
       "      <th>precision@5</th>\n",
       "      <th>recall@3</th>\n",
       "      <th>recall@5</th>\n",
       "    </tr>\n",
       "  </thead>\n",
       "  <tbody>\n",
       "    <tr>\n",
       "      <th>2</th>\n",
       "      <td>popularity_recommendation</td>\n",
       "      <td>0.137773</td>\n",
       "      <td>0.15524</td>\n",
       "      <td>0.016013</td>\n",
       "      <td>0.024996</td>\n",
       "    </tr>\n",
       "  </tbody>\n",
       "</table>\n",
       "</div>"
      ],
      "text/plain": [
       "                        name  precision@3  precision@5  recall@3  recall@5\n",
       "2  popularity_recommendation     0.137773      0.15524  0.016013  0.024996"
      ]
     },
     "metadata": {},
     "output_type": "display_data"
    }
   ],
   "source": [
    "get_popularity_recommendation('popularity_recommendation')\n",
    "display('рекомендации:', result.iloc[:, :2].join(result.iloc[:, -1:]).head(2), 'метрики:', result_table.tail(1))"
   ]
  },
  {
   "cell_type": "markdown",
   "metadata": {},
   "source": [
    "## Weighted random recommender\n",
    "\n",
    "код для случайных рекоммендаций, в которых вероятность рекомендовать товар прямо пропорциональна логарифму продаж"
   ]
  },
  {
   "cell_type": "code",
   "execution_count": 14,
   "metadata": {},
   "outputs": [],
   "source": [
    "def weighted_random_recommendation(iw, n):\n",
    "    \"\"\"Случайные рекоммендации с учетом весов всех item\"\"\"    \n",
    "    recs = np.random.choice(iw['item_id'], n, p=iw['item_weight'], replace=False)  \n",
    "    return recs.tolist()\n",
    "\n",
    "# найти все веса\n",
    "iw = data_train.groupby('item_id')['sales_value'].sum().reset_index()\n",
    "iw.columns = ['item_id', 'sales_value_sum']\n",
    "iw['item_weight'] = np.log(iw['sales_value_sum'] + 1)\n",
    "iw['item_weight'] = iw['item_weight'] / iw['item_weight'].sum()\n",
    "iw = iw[['item_id','item_weight']]"
   ]
  },
  {
   "cell_type": "code",
   "execution_count": 15,
   "metadata": {},
   "outputs": [],
   "source": [
    "def get_weighted_random_recommendation(col_name, result_table=result_table):\n",
    "    precision_list, recall_list = [], []\n",
    "    for num in [3, 5]:\n",
    "        result[col_name] =\\\n",
    "            result['user_id'].apply(lambda x: weighted_random_recommendation(iw, n=num))\n",
    "        precision_list.append(\n",
    "            result.apply(lambda row: precision_at_k(row[col_name], row['actual'], k=num), axis=1).mean())\n",
    "        recall_list.append(\n",
    "            result.apply(lambda row: recall_at_k(row[col_name], row['actual'], k=num), axis=1).mean())\n",
    "\n",
    "    result_table.loc[len(result_table)] = [col_name, precision_list[0], precision_list[1], \n",
    "                                           recall_list[0], recall_list[1]]"
   ]
  },
  {
   "cell_type": "markdown",
   "metadata": {},
   "source": [
    "Смотрим на рекомендации и полученные метрики:"
   ]
  },
  {
   "cell_type": "code",
   "execution_count": 16,
   "metadata": {},
   "outputs": [
    {
     "data": {
      "text/plain": [
       "'рекомендации:'"
      ]
     },
     "metadata": {},
     "output_type": "display_data"
    },
    {
     "data": {
      "text/html": [
       "<div>\n",
       "<style scoped>\n",
       "    .dataframe tbody tr th:only-of-type {\n",
       "        vertical-align: middle;\n",
       "    }\n",
       "\n",
       "    .dataframe tbody tr th {\n",
       "        vertical-align: top;\n",
       "    }\n",
       "\n",
       "    .dataframe thead th {\n",
       "        text-align: right;\n",
       "    }\n",
       "</style>\n",
       "<table border=\"1\" class=\"dataframe\">\n",
       "  <thead>\n",
       "    <tr style=\"text-align: right;\">\n",
       "      <th></th>\n",
       "      <th>user_id</th>\n",
       "      <th>actual</th>\n",
       "      <th>weighted_random_recommendation</th>\n",
       "    </tr>\n",
       "  </thead>\n",
       "  <tbody>\n",
       "    <tr>\n",
       "      <th>0</th>\n",
       "      <td>1</td>\n",
       "      <td>[821867, 834484, 856942, 865456, 889248, 90795...</td>\n",
       "      <td>[12428274, 6602501, 9575375, 1119112, 828143]</td>\n",
       "    </tr>\n",
       "    <tr>\n",
       "      <th>1</th>\n",
       "      <td>3</td>\n",
       "      <td>[835476, 851057, 872021, 878302, 879948, 90963...</td>\n",
       "      <td>[9196704, 1855726, 949192, 10344716, 6442539]</td>\n",
       "    </tr>\n",
       "  </tbody>\n",
       "</table>\n",
       "</div>"
      ],
      "text/plain": [
       "   user_id                                             actual  \\\n",
       "0        1  [821867, 834484, 856942, 865456, 889248, 90795...   \n",
       "1        3  [835476, 851057, 872021, 878302, 879948, 90963...   \n",
       "\n",
       "                  weighted_random_recommendation  \n",
       "0  [12428274, 6602501, 9575375, 1119112, 828143]  \n",
       "1  [9196704, 1855726, 949192, 10344716, 6442539]  "
      ]
     },
     "metadata": {},
     "output_type": "display_data"
    },
    {
     "data": {
      "text/plain": [
       "'метрики:'"
      ]
     },
     "metadata": {},
     "output_type": "display_data"
    },
    {
     "data": {
      "text/html": [
       "<div>\n",
       "<style scoped>\n",
       "    .dataframe tbody tr th:only-of-type {\n",
       "        vertical-align: middle;\n",
       "    }\n",
       "\n",
       "    .dataframe tbody tr th {\n",
       "        vertical-align: top;\n",
       "    }\n",
       "\n",
       "    .dataframe thead th {\n",
       "        text-align: right;\n",
       "    }\n",
       "</style>\n",
       "<table border=\"1\" class=\"dataframe\">\n",
       "  <thead>\n",
       "    <tr style=\"text-align: right;\">\n",
       "      <th></th>\n",
       "      <th>name</th>\n",
       "      <th>precision@3</th>\n",
       "      <th>precision@5</th>\n",
       "      <th>recall@3</th>\n",
       "      <th>recall@5</th>\n",
       "    </tr>\n",
       "  </thead>\n",
       "  <tbody>\n",
       "    <tr>\n",
       "      <th>3</th>\n",
       "      <td>weighted_random_recommendation</td>\n",
       "      <td>0.001632</td>\n",
       "      <td>0.001763</td>\n",
       "      <td>0.00006</td>\n",
       "      <td>0.000213</td>\n",
       "    </tr>\n",
       "  </tbody>\n",
       "</table>\n",
       "</div>"
      ],
      "text/plain": [
       "                             name  precision@3  precision@5  recall@3  \\\n",
       "3  weighted_random_recommendation     0.001632     0.001763   0.00006   \n",
       "\n",
       "   recall@5  \n",
       "3  0.000213  "
      ]
     },
     "metadata": {},
     "output_type": "display_data"
    }
   ],
   "source": [
    "get_weighted_random_recommendation('weighted_random_recommendation')\n",
    "display('рекомендации:', result.iloc[:, :2].join(result.iloc[:, -1:]).head(2), 'метрики:', result_table.tail(1))"
   ]
  },
  {
   "cell_type": "markdown",
   "metadata": {},
   "source": [
    "# Детерминированные алгоритмы item-item"
   ]
  },
  {
   "cell_type": "markdown",
   "metadata": {},
   "source": [
    "Так как у item-item-алгоритмов большая сложность, то размер выборки для рекомендаций будем ограничивать. Сформируем рекомендации и посчитаем метрики для n=3 и n=5 для ТОП-2000, ТОП-5000 и ТОП-10000:"
   ]
  },
  {
   "cell_type": "code",
   "execution_count": 17,
   "metadata": {},
   "outputs": [],
   "source": [
    "popularity = data_train.groupby('item_id')['quantity'].sum().reset_index()\n",
    "popularity.rename(columns={'quantity': 'n_sold'}, inplace=True)"
   ]
  },
  {
   "cell_type": "markdown",
   "metadata": {},
   "source": [
    "Разреженные матрицы:"
   ]
  },
  {
   "cell_type": "code",
   "execution_count": 18,
   "metadata": {},
   "outputs": [
    {
     "name": "stdout",
     "output_type": "stream",
     "text": [
      "разреженность матриц:\n",
      "ТОП-2000:\n",
      "\t8.61%\n",
      "ТОП-5000:\n",
      "\t5.34%\n",
      "ТОП-10000:\n",
      "\t3.53%\n"
     ]
    }
   ],
   "source": [
    "top_2000 = popularity.sort_values('n_sold', ascending=False).head(2000).item_id.tolist()\n",
    "data_train_top_2000 = data_train.copy()\n",
    "data_train_top_2000.loc[~data_train_top_2000['item_id'].isin(top_2000), 'item_id'] = 999999\n",
    "user_item_matrix_top_2000 = pd.pivot_table(data_train_top_2000, \n",
    "                                           index='user_id', columns='item_id', \n",
    "                                           values='quantity',\n",
    "                                           aggfunc='count',\n",
    "                                           fill_value=0)\n",
    "user_item_matrix_top_2000[user_item_matrix_top_2000 > 0] = 1              # так как в итоге хотим предсказать \n",
    "user_item_matrix_top_2000 = user_item_matrix_top_2000.astype(float)       # необходимый тип матрицы для implicit\n",
    "sparse_user_item_top_2000 = csr_matrix(user_item_matrix_top_2000).tocsr() # переведем в формат saprse matrix\n",
    "\n",
    "\n",
    "top_5000 = popularity.sort_values('n_sold', ascending=False).head(5000).item_id.tolist()\n",
    "data_train_top_5000 = data_train.copy()\n",
    "data_train_top_5000.loc[~data_train_top_5000['item_id'].isin(top_5000), 'item_id'] = 999999\n",
    "user_item_matrix_top_5000 = pd.pivot_table(data_train_top_5000, \n",
    "                                           index='user_id', columns='item_id', \n",
    "                                           values='quantity',\n",
    "                                           aggfunc='count',\n",
    "                                           fill_value=0)\n",
    "user_item_matrix_top_5000[user_item_matrix_top_5000 > 0] = 1        \n",
    "user_item_matrix_top_5000 = user_item_matrix_top_5000.astype(float)\n",
    "sparse_user_item_top_5000 = csr_matrix(user_item_matrix_top_5000).tocsr()\n",
    "\n",
    "\n",
    "top_10000 = popularity.sort_values('n_sold', ascending=False).head(10000).item_id.tolist()\n",
    "data_train_top_10000 = data_train.copy()\n",
    "data_train_top_10000.loc[~data_train_top_10000['item_id'].isin(top_10000), 'item_id'] = 999999\n",
    "user_item_matrix_top_10000 = pd.pivot_table(data_train_top_10000, \n",
    "                                            index='user_id', columns='item_id', \n",
    "                                            values='quantity',\n",
    "                                            aggfunc='count',\n",
    "                                            fill_value=0)\n",
    "user_item_matrix_top_10000[user_item_matrix_top_10000 > 0] = 1        \n",
    "user_item_matrix_top_10000 = user_item_matrix_top_10000.astype(float)\n",
    "sparse_user_item_top_10000 = csr_matrix(user_item_matrix_top_10000).tocsr()\n",
    "\n",
    "print('разреженность матриц:\\n'\n",
    "      f'ТОП-2000:\\n\\t'\n",
    "      f'{user_item_matrix_top_2000.sum().sum()/(user_item_matrix_top_2000.shape[0]*user_item_matrix_top_2000.shape[1]):.2%}'\n",
    "      f'\\nТОП-5000:\\n\\t'\n",
    "      f'{user_item_matrix_top_5000.sum().sum()/(user_item_matrix_top_5000.shape[0]*user_item_matrix_top_5000.shape[1]):.2%}'\n",
    "      f'\\nТОП-10000:\\n\\t'\n",
    "      f'{user_item_matrix_top_10000.sum().sum()/(user_item_matrix_top_10000.shape[0]*user_item_matrix_top_10000.shape[1]):.2%}'\n",
    "     )"
   ]
  },
  {
   "cell_type": "markdown",
   "metadata": {},
   "source": [
    "Делаем словари, в которых будут лежать реальные соответствия item_id и номера столбца. Для каждой выборки свои:"
   ]
  },
  {
   "cell_type": "code",
   "execution_count": 19,
   "metadata": {},
   "outputs": [],
   "source": [
    "userids_2000 = user_item_matrix_top_2000.index.values\n",
    "itemids_2000 = user_item_matrix_top_2000.columns.values\n",
    "\n",
    "matrix_userids_2000 = np.arange(len(userids_2000))\n",
    "matrix_itemids_2000 = np.arange(len(itemids_2000))\n",
    "\n",
    "id_to_itemid_2000 = dict(zip(matrix_itemids_2000, itemids_2000))\n",
    "id_to_userid_2000 = dict(zip(matrix_userids_2000, userids_2000))\n",
    "\n",
    "itemid_to_id_2000 = dict(zip(itemids_2000, matrix_itemids_2000))\n",
    "userid_to_id_2000 = dict(zip(userids_2000, matrix_userids_2000))\n",
    "\n",
    "\n",
    "userids_5000 = user_item_matrix_top_5000.index.values\n",
    "itemids_5000 = user_item_matrix_top_5000.columns.values\n",
    "\n",
    "matrix_userids_5000 = np.arange(len(userids_5000))\n",
    "matrix_itemids_5000 = np.arange(len(itemids_5000))\n",
    "\n",
    "id_to_itemid_5000 = dict(zip(matrix_itemids_5000, itemids_5000))\n",
    "id_to_userid_5000 = dict(zip(matrix_userids_5000, userids_5000))\n",
    "\n",
    "itemid_to_id_5000 = dict(zip(itemids_5000, matrix_itemids_5000))\n",
    "userid_to_id_5000 = dict(zip(userids_5000, matrix_userids_5000))\n",
    "\n",
    "\n",
    "userids_10000 = user_item_matrix_top_10000.index.values\n",
    "itemids_10000 = user_item_matrix_top_10000.columns.values\n",
    "\n",
    "matrix_userids_10000 = np.arange(len(userids_10000))\n",
    "matrix_itemids_10000 = np.arange(len(itemids_10000))\n",
    "\n",
    "id_to_itemid_10000 = dict(zip(matrix_itemids_10000, itemids_10000))\n",
    "id_to_userid_10000 = dict(zip(matrix_userids_10000, userids_10000))\n",
    "\n",
    "itemid_to_id_10000 = dict(zip(itemids_2000, matrix_itemids_10000))\n",
    "userid_to_id_10000 = dict(zip(userids_2000, matrix_userids_10000))\n",
    "\n",
    "userids = [userids_2000, userids_5000, userids_10000]\n",
    "itemids = [itemids_2000, itemids_5000, itemids_10000]\n",
    "matrix_userids = [matrix_userids_2000, matrix_userids_5000, matrix_userids_10000]\n",
    "matrix_itemids = [matrix_itemids_2000, matrix_itemids_5000, matrix_itemids_10000]\n",
    "id_to_itemid = [id_to_itemid_2000, id_to_itemid_5000, id_to_itemid_10000]\n",
    "id_to_userid = [id_to_userid_2000, id_to_userid_5000, id_to_userid_10000]\n",
    "itemid_to_id = [itemid_to_id_2000, itemid_to_id_5000, itemid_to_id_10000]\n",
    "userid_to_id = [userid_to_id_2000, userid_to_id_5000, userid_to_id_10000]"
   ]
  },
  {
   "cell_type": "markdown",
   "metadata": {},
   "source": [
    "Теперь сами алгоритмы:"
   ]
  },
  {
   "cell_type": "markdown",
   "metadata": {},
   "source": [
    "Принцип получения рекомендаций с помощью моделей `ItemItemRecommender`, `CosineRecommender`, `TFIDFRecommender` и `BM25Recommender` одинаковый, поэтому соберём код в единую функцию, которой будем передавать название модели, получать рекомендации и собирать значения метрик в нашу сводную таблицу:"
   ]
  },
  {
   "cell_type": "code",
   "execution_count": 20,
   "metadata": {},
   "outputs": [],
   "source": [
    "def get_deterministic_algorithms(name_model, result_table=result_table, get_metrix=False, K=5):\n",
    "    \n",
    "    iter_top_list = ['_top_2000', '_top_5000', '_top_10000']\n",
    "    \n",
    "    for index, sparse_user_item in enumerate([sparse_user_item_top_2000, \n",
    "                                              sparse_user_item_top_5000, \n",
    "                                              sparse_user_item_top_10000]):\n",
    "        precision_list, recall_list = [], []\n",
    "        for num in [3, 5]:\n",
    "            \n",
    "            if name_model == 'ItemItemRecommender':\n",
    "                model = ItemItemRecommender(K=K, num_threads=4)\n",
    "            elif name_model == 'CosineRecommender':\n",
    "                model = CosineRecommender(K=K, num_threads=4)\n",
    "            elif name_model == 'TFIDFRecommender':\n",
    "                model = CosineRecommender(K=K, num_threads=4)\n",
    "            elif name_model == 'BM25Recommender':\n",
    "                model = BM25Recommender(K=num, num_threads=4)\n",
    "            else:\n",
    "                raise AttributeError('неправильное имя модели')\n",
    "                        \n",
    "            model.fit(sparse_user_item)\n",
    "\n",
    "            col_name = name_model+iter_top_list[index]\n",
    "\n",
    "            result[col_name] = result['user_id'].\\\n",
    "                apply(lambda x: [id_to_itemid[index][rec] for rec in \n",
    "                                model.recommend(userid=userid_to_id[index][x], \n",
    "                                                user_items=sparse_user_item,   # на вход user-item matrix\n",
    "                                                N=num, \n",
    "                                                filter_already_liked_items=False, \n",
    "                                                filter_items=[itemid_to_id[index][999999]], \n",
    "                                                recalculate_user=True)[0]])\n",
    "\n",
    "            precision_list.append(\n",
    "                result.apply(lambda row: precision_at_k(row[col_name], row['actual'], k=num), axis=1).mean())\n",
    "            recall_list.append(\n",
    "                result.apply(lambda row: recall_at_k(row[col_name], row['actual'], k=num), axis=1).mean())\n",
    "\n",
    "        result_table.loc[len(result_table)] = [name_model+iter_top_list[index]+f', {K=}', precision_list[0], \n",
    "                                               precision_list[1], recall_list[0], recall_list[1]]\n",
    "    if get_metrix:\n",
    "        display('метрики:', result_table)"
   ]
  },
  {
   "cell_type": "markdown",
   "metadata": {},
   "source": [
    "А теперь сформируем для каждого алгоритма рекомендации по метрикам `precision@3`, `precision@5`, `recall@3` и `recall@5`, меняя количество соседей `K=2`, `K=5` и `K=10`. Результат будем добавлять в нашу сводную таблицу, которую выведем на печать в самом конце после отработки всех алгоритмов + дополнитель отрисуем столбчатую диаграмму:"
   ]
  },
  {
   "cell_type": "code",
   "execution_count": 21,
   "metadata": {
    "scrolled": false
   },
   "outputs": [
    {
     "data": {
      "application/vnd.jupyter.widget-view+json": {
       "model_id": "5ded28ac0c0445d5a00c57725c5bcf91",
       "version_major": 2,
       "version_minor": 0
      },
      "text/plain": [
       "  0%|          | 0/2001 [00:00<?, ?it/s]"
      ]
     },
     "metadata": {},
     "output_type": "display_data"
    },
    {
     "data": {
      "application/vnd.jupyter.widget-view+json": {
       "model_id": "917febf1c03742afbae7cc9bdb6e4238",
       "version_major": 2,
       "version_minor": 0
      },
      "text/plain": [
       "  0%|          | 0/2001 [00:00<?, ?it/s]"
      ]
     },
     "metadata": {},
     "output_type": "display_data"
    },
    {
     "data": {
      "application/vnd.jupyter.widget-view+json": {
       "model_id": "41d955e362f74fddbf541698f6569f32",
       "version_major": 2,
       "version_minor": 0
      },
      "text/plain": [
       "  0%|          | 0/5001 [00:00<?, ?it/s]"
      ]
     },
     "metadata": {},
     "output_type": "display_data"
    },
    {
     "data": {
      "application/vnd.jupyter.widget-view+json": {
       "model_id": "0e4da51ce4754d7abc40ae1e69028f1f",
       "version_major": 2,
       "version_minor": 0
      },
      "text/plain": [
       "  0%|          | 0/5001 [00:00<?, ?it/s]"
      ]
     },
     "metadata": {},
     "output_type": "display_data"
    },
    {
     "data": {
      "application/vnd.jupyter.widget-view+json": {
       "model_id": "5e623c873f2c412aa1dfb59924c92f27",
       "version_major": 2,
       "version_minor": 0
      },
      "text/plain": [
       "  0%|          | 0/10001 [00:00<?, ?it/s]"
      ]
     },
     "metadata": {},
     "output_type": "display_data"
    },
    {
     "data": {
      "application/vnd.jupyter.widget-view+json": {
       "model_id": "40afc9a36f21419296fcd75644a6c78d",
       "version_major": 2,
       "version_minor": 0
      },
      "text/plain": [
       "  0%|          | 0/10001 [00:00<?, ?it/s]"
      ]
     },
     "metadata": {},
     "output_type": "display_data"
    },
    {
     "data": {
      "application/vnd.jupyter.widget-view+json": {
       "model_id": "5aeac8671eb843bbb1a32b994e7d9d65",
       "version_major": 2,
       "version_minor": 0
      },
      "text/plain": [
       "  0%|          | 0/2001 [00:00<?, ?it/s]"
      ]
     },
     "metadata": {},
     "output_type": "display_data"
    },
    {
     "data": {
      "application/vnd.jupyter.widget-view+json": {
       "model_id": "ddecbbbbb9f14be98e26b2d084d2b718",
       "version_major": 2,
       "version_minor": 0
      },
      "text/plain": [
       "  0%|          | 0/2001 [00:00<?, ?it/s]"
      ]
     },
     "metadata": {},
     "output_type": "display_data"
    },
    {
     "data": {
      "application/vnd.jupyter.widget-view+json": {
       "model_id": "378d347605d14fc688e8fa875785140c",
       "version_major": 2,
       "version_minor": 0
      },
      "text/plain": [
       "  0%|          | 0/5001 [00:00<?, ?it/s]"
      ]
     },
     "metadata": {},
     "output_type": "display_data"
    },
    {
     "data": {
      "application/vnd.jupyter.widget-view+json": {
       "model_id": "27e82f7aea8440f1a87ad768608b87f1",
       "version_major": 2,
       "version_minor": 0
      },
      "text/plain": [
       "  0%|          | 0/5001 [00:00<?, ?it/s]"
      ]
     },
     "metadata": {},
     "output_type": "display_data"
    },
    {
     "data": {
      "application/vnd.jupyter.widget-view+json": {
       "model_id": "cb71b0ff617c46d08611f15257c2acd0",
       "version_major": 2,
       "version_minor": 0
      },
      "text/plain": [
       "  0%|          | 0/10001 [00:00<?, ?it/s]"
      ]
     },
     "metadata": {},
     "output_type": "display_data"
    },
    {
     "data": {
      "application/vnd.jupyter.widget-view+json": {
       "model_id": "4dc4a04053904c51b4aac1bf64ce6f6e",
       "version_major": 2,
       "version_minor": 0
      },
      "text/plain": [
       "  0%|          | 0/10001 [00:00<?, ?it/s]"
      ]
     },
     "metadata": {},
     "output_type": "display_data"
    },
    {
     "data": {
      "application/vnd.jupyter.widget-view+json": {
       "model_id": "1bc1315cbef040878b5b17cf729ce4f5",
       "version_major": 2,
       "version_minor": 0
      },
      "text/plain": [
       "  0%|          | 0/2001 [00:00<?, ?it/s]"
      ]
     },
     "metadata": {},
     "output_type": "display_data"
    },
    {
     "data": {
      "application/vnd.jupyter.widget-view+json": {
       "model_id": "5422edc69e304a2ebf1a736284378f55",
       "version_major": 2,
       "version_minor": 0
      },
      "text/plain": [
       "  0%|          | 0/2001 [00:00<?, ?it/s]"
      ]
     },
     "metadata": {},
     "output_type": "display_data"
    },
    {
     "data": {
      "application/vnd.jupyter.widget-view+json": {
       "model_id": "9c1efd2fe3e748f4b572bce291994c5c",
       "version_major": 2,
       "version_minor": 0
      },
      "text/plain": [
       "  0%|          | 0/5001 [00:00<?, ?it/s]"
      ]
     },
     "metadata": {},
     "output_type": "display_data"
    },
    {
     "data": {
      "application/vnd.jupyter.widget-view+json": {
       "model_id": "0304c897be684bef8a1771898d462be8",
       "version_major": 2,
       "version_minor": 0
      },
      "text/plain": [
       "  0%|          | 0/5001 [00:00<?, ?it/s]"
      ]
     },
     "metadata": {},
     "output_type": "display_data"
    },
    {
     "data": {
      "application/vnd.jupyter.widget-view+json": {
       "model_id": "58340bf6c6f14dd585b607f1cfd095ba",
       "version_major": 2,
       "version_minor": 0
      },
      "text/plain": [
       "  0%|          | 0/10001 [00:00<?, ?it/s]"
      ]
     },
     "metadata": {},
     "output_type": "display_data"
    },
    {
     "data": {
      "application/vnd.jupyter.widget-view+json": {
       "model_id": "7f884acdb199432c930ecd0bd1f2f198",
       "version_major": 2,
       "version_minor": 0
      },
      "text/plain": [
       "  0%|          | 0/10001 [00:00<?, ?it/s]"
      ]
     },
     "metadata": {},
     "output_type": "display_data"
    },
    {
     "data": {
      "application/vnd.jupyter.widget-view+json": {
       "model_id": "6997f99d160c4c00a308144e4362a5cf",
       "version_major": 2,
       "version_minor": 0
      },
      "text/plain": [
       "  0%|          | 0/2001 [00:00<?, ?it/s]"
      ]
     },
     "metadata": {},
     "output_type": "display_data"
    },
    {
     "data": {
      "application/vnd.jupyter.widget-view+json": {
       "model_id": "6afb03d95aa4443ab4b16127722a73b4",
       "version_major": 2,
       "version_minor": 0
      },
      "text/plain": [
       "  0%|          | 0/2001 [00:00<?, ?it/s]"
      ]
     },
     "metadata": {},
     "output_type": "display_data"
    },
    {
     "data": {
      "application/vnd.jupyter.widget-view+json": {
       "model_id": "02a0801e77d44dcc8f0c842e3daffb69",
       "version_major": 2,
       "version_minor": 0
      },
      "text/plain": [
       "  0%|          | 0/5001 [00:00<?, ?it/s]"
      ]
     },
     "metadata": {},
     "output_type": "display_data"
    },
    {
     "data": {
      "application/vnd.jupyter.widget-view+json": {
       "model_id": "4e34511a5b704aa1b2a0a889c8b4b444",
       "version_major": 2,
       "version_minor": 0
      },
      "text/plain": [
       "  0%|          | 0/5001 [00:00<?, ?it/s]"
      ]
     },
     "metadata": {},
     "output_type": "display_data"
    },
    {
     "data": {
      "application/vnd.jupyter.widget-view+json": {
       "model_id": "5a968f3a52544f6eb5bd18265547b182",
       "version_major": 2,
       "version_minor": 0
      },
      "text/plain": [
       "  0%|          | 0/10001 [00:00<?, ?it/s]"
      ]
     },
     "metadata": {},
     "output_type": "display_data"
    },
    {
     "data": {
      "application/vnd.jupyter.widget-view+json": {
       "model_id": "599b8235d38a4db1a36114bf92268089",
       "version_major": 2,
       "version_minor": 0
      },
      "text/plain": [
       "  0%|          | 0/10001 [00:00<?, ?it/s]"
      ]
     },
     "metadata": {},
     "output_type": "display_data"
    },
    {
     "data": {
      "application/vnd.jupyter.widget-view+json": {
       "model_id": "3ac6d999b0644af8ae664ed04927c2c2",
       "version_major": 2,
       "version_minor": 0
      },
      "text/plain": [
       "  0%|          | 0/2001 [00:00<?, ?it/s]"
      ]
     },
     "metadata": {},
     "output_type": "display_data"
    },
    {
     "data": {
      "application/vnd.jupyter.widget-view+json": {
       "model_id": "cee98fddba4f4c99b4d1051899d4930a",
       "version_major": 2,
       "version_minor": 0
      },
      "text/plain": [
       "  0%|          | 0/2001 [00:00<?, ?it/s]"
      ]
     },
     "metadata": {},
     "output_type": "display_data"
    },
    {
     "data": {
      "application/vnd.jupyter.widget-view+json": {
       "model_id": "2de3f0ea16694268852fd4c71bdc35b3",
       "version_major": 2,
       "version_minor": 0
      },
      "text/plain": [
       "  0%|          | 0/5001 [00:00<?, ?it/s]"
      ]
     },
     "metadata": {},
     "output_type": "display_data"
    },
    {
     "data": {
      "application/vnd.jupyter.widget-view+json": {
       "model_id": "1f940f9f88754aa6ad8b41a6c40d9401",
       "version_major": 2,
       "version_minor": 0
      },
      "text/plain": [
       "  0%|          | 0/5001 [00:00<?, ?it/s]"
      ]
     },
     "metadata": {},
     "output_type": "display_data"
    },
    {
     "data": {
      "application/vnd.jupyter.widget-view+json": {
       "model_id": "e1ad50f00a3940d3867930acd4b5db1a",
       "version_major": 2,
       "version_minor": 0
      },
      "text/plain": [
       "  0%|          | 0/10001 [00:00<?, ?it/s]"
      ]
     },
     "metadata": {},
     "output_type": "display_data"
    },
    {
     "data": {
      "application/vnd.jupyter.widget-view+json": {
       "model_id": "291109e37bbb4b97bcad4e40662b9429",
       "version_major": 2,
       "version_minor": 0
      },
      "text/plain": [
       "  0%|          | 0/10001 [00:00<?, ?it/s]"
      ]
     },
     "metadata": {},
     "output_type": "display_data"
    },
    {
     "data": {
      "application/vnd.jupyter.widget-view+json": {
       "model_id": "4d18486a1bc04a038d78a26c77a3fbb2",
       "version_major": 2,
       "version_minor": 0
      },
      "text/plain": [
       "  0%|          | 0/2001 [00:00<?, ?it/s]"
      ]
     },
     "metadata": {},
     "output_type": "display_data"
    },
    {
     "data": {
      "application/vnd.jupyter.widget-view+json": {
       "model_id": "fc83e2dffbf1473ab8a3b72745e5286d",
       "version_major": 2,
       "version_minor": 0
      },
      "text/plain": [
       "  0%|          | 0/2001 [00:00<?, ?it/s]"
      ]
     },
     "metadata": {},
     "output_type": "display_data"
    },
    {
     "data": {
      "application/vnd.jupyter.widget-view+json": {
       "model_id": "14cff94cfa514e598044b7103b4c772c",
       "version_major": 2,
       "version_minor": 0
      },
      "text/plain": [
       "  0%|          | 0/5001 [00:00<?, ?it/s]"
      ]
     },
     "metadata": {},
     "output_type": "display_data"
    },
    {
     "data": {
      "application/vnd.jupyter.widget-view+json": {
       "model_id": "def1dd8d07184e5caf9951b3ec1a598f",
       "version_major": 2,
       "version_minor": 0
      },
      "text/plain": [
       "  0%|          | 0/5001 [00:00<?, ?it/s]"
      ]
     },
     "metadata": {},
     "output_type": "display_data"
    },
    {
     "data": {
      "application/vnd.jupyter.widget-view+json": {
       "model_id": "8e573f7ffecf4e17a22b3b7651abdbee",
       "version_major": 2,
       "version_minor": 0
      },
      "text/plain": [
       "  0%|          | 0/10001 [00:00<?, ?it/s]"
      ]
     },
     "metadata": {},
     "output_type": "display_data"
    },
    {
     "data": {
      "application/vnd.jupyter.widget-view+json": {
       "model_id": "47d0143b19674202ad9ec203aeae96ce",
       "version_major": 2,
       "version_minor": 0
      },
      "text/plain": [
       "  0%|          | 0/10001 [00:00<?, ?it/s]"
      ]
     },
     "metadata": {},
     "output_type": "display_data"
    },
    {
     "data": {
      "application/vnd.jupyter.widget-view+json": {
       "model_id": "e1ca542f0cc34e098235d280c2411254",
       "version_major": 2,
       "version_minor": 0
      },
      "text/plain": [
       "  0%|          | 0/2001 [00:00<?, ?it/s]"
      ]
     },
     "metadata": {},
     "output_type": "display_data"
    },
    {
     "data": {
      "application/vnd.jupyter.widget-view+json": {
       "model_id": "c118c549e41444e796b160514692ad16",
       "version_major": 2,
       "version_minor": 0
      },
      "text/plain": [
       "  0%|          | 0/2001 [00:00<?, ?it/s]"
      ]
     },
     "metadata": {},
     "output_type": "display_data"
    },
    {
     "data": {
      "application/vnd.jupyter.widget-view+json": {
       "model_id": "9f504133b3134222a288af4659d87bea",
       "version_major": 2,
       "version_minor": 0
      },
      "text/plain": [
       "  0%|          | 0/5001 [00:00<?, ?it/s]"
      ]
     },
     "metadata": {},
     "output_type": "display_data"
    },
    {
     "data": {
      "application/vnd.jupyter.widget-view+json": {
       "model_id": "07999d340dc24766b5ffdc785a2811d2",
       "version_major": 2,
       "version_minor": 0
      },
      "text/plain": [
       "  0%|          | 0/5001 [00:00<?, ?it/s]"
      ]
     },
     "metadata": {},
     "output_type": "display_data"
    },
    {
     "data": {
      "application/vnd.jupyter.widget-view+json": {
       "model_id": "b76ed498bb3c4d28b664026f2f4b0823",
       "version_major": 2,
       "version_minor": 0
      },
      "text/plain": [
       "  0%|          | 0/10001 [00:00<?, ?it/s]"
      ]
     },
     "metadata": {},
     "output_type": "display_data"
    },
    {
     "data": {
      "application/vnd.jupyter.widget-view+json": {
       "model_id": "89d097dd64464ba68dac88a64b9d123c",
       "version_major": 2,
       "version_minor": 0
      },
      "text/plain": [
       "  0%|          | 0/10001 [00:00<?, ?it/s]"
      ]
     },
     "metadata": {},
     "output_type": "display_data"
    },
    {
     "data": {
      "application/vnd.jupyter.widget-view+json": {
       "model_id": "853640c1f88d4fc1b668eff798b980c4",
       "version_major": 2,
       "version_minor": 0
      },
      "text/plain": [
       "  0%|          | 0/2001 [00:00<?, ?it/s]"
      ]
     },
     "metadata": {},
     "output_type": "display_data"
    },
    {
     "data": {
      "application/vnd.jupyter.widget-view+json": {
       "model_id": "120831e9dff64d56bace1427ea478c63",
       "version_major": 2,
       "version_minor": 0
      },
      "text/plain": [
       "  0%|          | 0/2001 [00:00<?, ?it/s]"
      ]
     },
     "metadata": {},
     "output_type": "display_data"
    },
    {
     "data": {
      "application/vnd.jupyter.widget-view+json": {
       "model_id": "46be47b43d2a4775be1e11caba084000",
       "version_major": 2,
       "version_minor": 0
      },
      "text/plain": [
       "  0%|          | 0/5001 [00:00<?, ?it/s]"
      ]
     },
     "metadata": {},
     "output_type": "display_data"
    },
    {
     "data": {
      "application/vnd.jupyter.widget-view+json": {
       "model_id": "089e65c6b95245c9af8ebbcc8e789f51",
       "version_major": 2,
       "version_minor": 0
      },
      "text/plain": [
       "  0%|          | 0/5001 [00:00<?, ?it/s]"
      ]
     },
     "metadata": {},
     "output_type": "display_data"
    },
    {
     "data": {
      "application/vnd.jupyter.widget-view+json": {
       "model_id": "d3ae3230d104482388d81d4bc4fd8e28",
       "version_major": 2,
       "version_minor": 0
      },
      "text/plain": [
       "  0%|          | 0/10001 [00:00<?, ?it/s]"
      ]
     },
     "metadata": {},
     "output_type": "display_data"
    },
    {
     "data": {
      "application/vnd.jupyter.widget-view+json": {
       "model_id": "9e969f6f934649e4b6af67e718d40844",
       "version_major": 2,
       "version_minor": 0
      },
      "text/plain": [
       "  0%|          | 0/10001 [00:00<?, ?it/s]"
      ]
     },
     "metadata": {},
     "output_type": "display_data"
    },
    {
     "data": {
      "application/vnd.jupyter.widget-view+json": {
       "model_id": "bc9465de154d40eea8996220aa532d75",
       "version_major": 2,
       "version_minor": 0
      },
      "text/plain": [
       "  0%|          | 0/2001 [00:00<?, ?it/s]"
      ]
     },
     "metadata": {},
     "output_type": "display_data"
    },
    {
     "data": {
      "application/vnd.jupyter.widget-view+json": {
       "model_id": "f00c8b44f1b9482e8cfb30406b03d313",
       "version_major": 2,
       "version_minor": 0
      },
      "text/plain": [
       "  0%|          | 0/2001 [00:00<?, ?it/s]"
      ]
     },
     "metadata": {},
     "output_type": "display_data"
    },
    {
     "data": {
      "application/vnd.jupyter.widget-view+json": {
       "model_id": "3faeac4e99194c759099e7fbf186a182",
       "version_major": 2,
       "version_minor": 0
      },
      "text/plain": [
       "  0%|          | 0/5001 [00:00<?, ?it/s]"
      ]
     },
     "metadata": {},
     "output_type": "display_data"
    },
    {
     "data": {
      "application/vnd.jupyter.widget-view+json": {
       "model_id": "a640d2b8004b4154bf3118dc7d90718f",
       "version_major": 2,
       "version_minor": 0
      },
      "text/plain": [
       "  0%|          | 0/5001 [00:00<?, ?it/s]"
      ]
     },
     "metadata": {},
     "output_type": "display_data"
    },
    {
     "data": {
      "application/vnd.jupyter.widget-view+json": {
       "model_id": "a392874b52df418ab73462b51f81d86e",
       "version_major": 2,
       "version_minor": 0
      },
      "text/plain": [
       "  0%|          | 0/10001 [00:00<?, ?it/s]"
      ]
     },
     "metadata": {},
     "output_type": "display_data"
    },
    {
     "data": {
      "application/vnd.jupyter.widget-view+json": {
       "model_id": "c85c2260a7ec42c089819da0a898831e",
       "version_major": 2,
       "version_minor": 0
      },
      "text/plain": [
       "  0%|          | 0/10001 [00:00<?, ?it/s]"
      ]
     },
     "metadata": {},
     "output_type": "display_data"
    },
    {
     "data": {
      "application/vnd.jupyter.widget-view+json": {
       "model_id": "5c2fca486be94f0cbdcbf92368cb2b11",
       "version_major": 2,
       "version_minor": 0
      },
      "text/plain": [
       "  0%|          | 0/2001 [00:00<?, ?it/s]"
      ]
     },
     "metadata": {},
     "output_type": "display_data"
    },
    {
     "data": {
      "application/vnd.jupyter.widget-view+json": {
       "model_id": "9310df67e1f24c69a518a7accd46ccc5",
       "version_major": 2,
       "version_minor": 0
      },
      "text/plain": [
       "  0%|          | 0/2001 [00:00<?, ?it/s]"
      ]
     },
     "metadata": {},
     "output_type": "display_data"
    },
    {
     "data": {
      "application/vnd.jupyter.widget-view+json": {
       "model_id": "4e9c9fe1073d48c7bead68756b79017b",
       "version_major": 2,
       "version_minor": 0
      },
      "text/plain": [
       "  0%|          | 0/5001 [00:00<?, ?it/s]"
      ]
     },
     "metadata": {},
     "output_type": "display_data"
    },
    {
     "data": {
      "application/vnd.jupyter.widget-view+json": {
       "model_id": "917262aa4c544aefb2f111b3a659abdf",
       "version_major": 2,
       "version_minor": 0
      },
      "text/plain": [
       "  0%|          | 0/5001 [00:00<?, ?it/s]"
      ]
     },
     "metadata": {},
     "output_type": "display_data"
    },
    {
     "data": {
      "application/vnd.jupyter.widget-view+json": {
       "model_id": "a0d0e42c20304ca6aca6239f362a8e7b",
       "version_major": 2,
       "version_minor": 0
      },
      "text/plain": [
       "  0%|          | 0/10001 [00:00<?, ?it/s]"
      ]
     },
     "metadata": {},
     "output_type": "display_data"
    },
    {
     "data": {
      "application/vnd.jupyter.widget-view+json": {
       "model_id": "f8da1dd02f3c4fe487d2e5aa58cd45cc",
       "version_major": 2,
       "version_minor": 0
      },
      "text/plain": [
       "  0%|          | 0/10001 [00:00<?, ?it/s]"
      ]
     },
     "metadata": {},
     "output_type": "display_data"
    },
    {
     "data": {
      "application/vnd.jupyter.widget-view+json": {
       "model_id": "05266b4906c048c8b70abd75703b0cf8",
       "version_major": 2,
       "version_minor": 0
      },
      "text/plain": [
       "  0%|          | 0/2001 [00:00<?, ?it/s]"
      ]
     },
     "metadata": {},
     "output_type": "display_data"
    },
    {
     "data": {
      "application/vnd.jupyter.widget-view+json": {
       "model_id": "e208e3f2e2514a0b8588c52e1a4494fa",
       "version_major": 2,
       "version_minor": 0
      },
      "text/plain": [
       "  0%|          | 0/2001 [00:00<?, ?it/s]"
      ]
     },
     "metadata": {},
     "output_type": "display_data"
    },
    {
     "data": {
      "application/vnd.jupyter.widget-view+json": {
       "model_id": "79e3051f25204a2b8d2056867a5b84bc",
       "version_major": 2,
       "version_minor": 0
      },
      "text/plain": [
       "  0%|          | 0/5001 [00:00<?, ?it/s]"
      ]
     },
     "metadata": {},
     "output_type": "display_data"
    },
    {
     "data": {
      "application/vnd.jupyter.widget-view+json": {
       "model_id": "28b1a6ccdb304071806183cf0cfed27a",
       "version_major": 2,
       "version_minor": 0
      },
      "text/plain": [
       "  0%|          | 0/5001 [00:00<?, ?it/s]"
      ]
     },
     "metadata": {},
     "output_type": "display_data"
    },
    {
     "data": {
      "application/vnd.jupyter.widget-view+json": {
       "model_id": "e366686b4b034d9b949313282b573c1d",
       "version_major": 2,
       "version_minor": 0
      },
      "text/plain": [
       "  0%|          | 0/10001 [00:00<?, ?it/s]"
      ]
     },
     "metadata": {},
     "output_type": "display_data"
    },
    {
     "data": {
      "application/vnd.jupyter.widget-view+json": {
       "model_id": "efd2f893a5cb42a3a4db2256ed160bdb",
       "version_major": 2,
       "version_minor": 0
      },
      "text/plain": [
       "  0%|          | 0/10001 [00:00<?, ?it/s]"
      ]
     },
     "metadata": {},
     "output_type": "display_data"
    },
    {
     "data": {
      "application/vnd.jupyter.widget-view+json": {
       "model_id": "67731ea4d0da4f609e1641d44c476605",
       "version_major": 2,
       "version_minor": 0
      },
      "text/plain": [
       "  0%|          | 0/2001 [00:00<?, ?it/s]"
      ]
     },
     "metadata": {},
     "output_type": "display_data"
    },
    {
     "data": {
      "application/vnd.jupyter.widget-view+json": {
       "model_id": "1061a2da0faf49e599f37640b934aedd",
       "version_major": 2,
       "version_minor": 0
      },
      "text/plain": [
       "  0%|          | 0/2001 [00:00<?, ?it/s]"
      ]
     },
     "metadata": {},
     "output_type": "display_data"
    },
    {
     "data": {
      "application/vnd.jupyter.widget-view+json": {
       "model_id": "e1a402ff2fb1462d93a141396f5cc72f",
       "version_major": 2,
       "version_minor": 0
      },
      "text/plain": [
       "  0%|          | 0/5001 [00:00<?, ?it/s]"
      ]
     },
     "metadata": {},
     "output_type": "display_data"
    },
    {
     "data": {
      "application/vnd.jupyter.widget-view+json": {
       "model_id": "8b15234ef61d46ae9e9c4f00a3f0b272",
       "version_major": 2,
       "version_minor": 0
      },
      "text/plain": [
       "  0%|          | 0/5001 [00:00<?, ?it/s]"
      ]
     },
     "metadata": {},
     "output_type": "display_data"
    },
    {
     "data": {
      "application/vnd.jupyter.widget-view+json": {
       "model_id": "2a4c8c94378c45b1b8ad23c5695bb6b7",
       "version_major": 2,
       "version_minor": 0
      },
      "text/plain": [
       "  0%|          | 0/10001 [00:00<?, ?it/s]"
      ]
     },
     "metadata": {},
     "output_type": "display_data"
    },
    {
     "data": {
      "application/vnd.jupyter.widget-view+json": {
       "model_id": "e8490beaa82a40b0ab8d4dc35fa706e8",
       "version_major": 2,
       "version_minor": 0
      },
      "text/plain": [
       "  0%|          | 0/10001 [00:00<?, ?it/s]"
      ]
     },
     "metadata": {},
     "output_type": "display_data"
    },
    {
     "data": {
      "text/plain": [
       "'метрики:'"
      ]
     },
     "metadata": {},
     "output_type": "display_data"
    },
    {
     "data": {
      "text/html": [
       "<div>\n",
       "<style scoped>\n",
       "    .dataframe tbody tr th:only-of-type {\n",
       "        vertical-align: middle;\n",
       "    }\n",
       "\n",
       "    .dataframe tbody tr th {\n",
       "        vertical-align: top;\n",
       "    }\n",
       "\n",
       "    .dataframe thead th {\n",
       "        text-align: right;\n",
       "    }\n",
       "</style>\n",
       "<table border=\"1\" class=\"dataframe\">\n",
       "  <thead>\n",
       "    <tr style=\"text-align: right;\">\n",
       "      <th></th>\n",
       "      <th>name</th>\n",
       "      <th>precision@3</th>\n",
       "      <th>precision@5</th>\n",
       "      <th>recall@3</th>\n",
       "      <th>recall@5</th>\n",
       "    </tr>\n",
       "  </thead>\n",
       "  <tbody>\n",
       "    <tr>\n",
       "      <th>10</th>\n",
       "      <td>ItemItemRecommender_top_2000, K=2</td>\n",
       "      <td>0.233758</td>\n",
       "      <td>0.162977</td>\n",
       "      <td>0.016859</td>\n",
       "      <td>0.019229</td>\n",
       "    </tr>\n",
       "    <tr>\n",
       "      <th>11</th>\n",
       "      <td>ItemItemRecommender_top_5000, K=2</td>\n",
       "      <td>0.233758</td>\n",
       "      <td>0.162977</td>\n",
       "      <td>0.016859</td>\n",
       "      <td>0.019229</td>\n",
       "    </tr>\n",
       "    <tr>\n",
       "      <th>7</th>\n",
       "      <td>ItemItemRecommender_top_2000, K=10</td>\n",
       "      <td>0.217597</td>\n",
       "      <td>0.157003</td>\n",
       "      <td>0.015042</td>\n",
       "      <td>0.017730</td>\n",
       "    </tr>\n",
       "    <tr>\n",
       "      <th>8</th>\n",
       "      <td>ItemItemRecommender_top_5000, K=10</td>\n",
       "      <td>0.217597</td>\n",
       "      <td>0.157003</td>\n",
       "      <td>0.015042</td>\n",
       "      <td>0.017730</td>\n",
       "    </tr>\n",
       "    <tr>\n",
       "      <th>13</th>\n",
       "      <td>CosineRecommender_top_2000, K=5</td>\n",
       "      <td>0.174012</td>\n",
       "      <td>0.135455</td>\n",
       "      <td>0.011631</td>\n",
       "      <td>0.014031</td>\n",
       "    </tr>\n",
       "    <tr>\n",
       "      <th>25</th>\n",
       "      <td>TFIDFRecommender_top_2000, K=10</td>\n",
       "      <td>0.174012</td>\n",
       "      <td>0.135455</td>\n",
       "      <td>0.011631</td>\n",
       "      <td>0.014031</td>\n",
       "    </tr>\n",
       "    <tr>\n",
       "      <th>16</th>\n",
       "      <td>CosineRecommender_top_2000, K=10</td>\n",
       "      <td>0.174012</td>\n",
       "      <td>0.135455</td>\n",
       "      <td>0.011631</td>\n",
       "      <td>0.014031</td>\n",
       "    </tr>\n",
       "    <tr>\n",
       "      <th>17</th>\n",
       "      <td>CosineRecommender_top_5000, K=10</td>\n",
       "      <td>0.174012</td>\n",
       "      <td>0.135455</td>\n",
       "      <td>0.011631</td>\n",
       "      <td>0.014031</td>\n",
       "    </tr>\n",
       "    <tr>\n",
       "      <th>22</th>\n",
       "      <td>TFIDFRecommender_top_2000, K=5</td>\n",
       "      <td>0.174012</td>\n",
       "      <td>0.135455</td>\n",
       "      <td>0.011631</td>\n",
       "      <td>0.014031</td>\n",
       "    </tr>\n",
       "    <tr>\n",
       "      <th>23</th>\n",
       "      <td>TFIDFRecommender_top_5000, K=5</td>\n",
       "      <td>0.174012</td>\n",
       "      <td>0.135455</td>\n",
       "      <td>0.011631</td>\n",
       "      <td>0.014031</td>\n",
       "    </tr>\n",
       "    <tr>\n",
       "      <th>4</th>\n",
       "      <td>ItemItemRecommender_top_2000, K=5</td>\n",
       "      <td>0.174012</td>\n",
       "      <td>0.145739</td>\n",
       "      <td>0.011631</td>\n",
       "      <td>0.016218</td>\n",
       "    </tr>\n",
       "    <tr>\n",
       "      <th>5</th>\n",
       "      <td>ItemItemRecommender_top_5000, K=5</td>\n",
       "      <td>0.174012</td>\n",
       "      <td>0.145739</td>\n",
       "      <td>0.011631</td>\n",
       "      <td>0.016218</td>\n",
       "    </tr>\n",
       "    <tr>\n",
       "      <th>26</th>\n",
       "      <td>TFIDFRecommender_top_5000, K=10</td>\n",
       "      <td>0.174012</td>\n",
       "      <td>0.135455</td>\n",
       "      <td>0.011631</td>\n",
       "      <td>0.014031</td>\n",
       "    </tr>\n",
       "    <tr>\n",
       "      <th>14</th>\n",
       "      <td>CosineRecommender_top_5000, K=5</td>\n",
       "      <td>0.174012</td>\n",
       "      <td>0.135455</td>\n",
       "      <td>0.011631</td>\n",
       "      <td>0.014031</td>\n",
       "    </tr>\n",
       "    <tr>\n",
       "      <th>19</th>\n",
       "      <td>CosineRecommender_top_2000, K=2</td>\n",
       "      <td>0.156872</td>\n",
       "      <td>0.129971</td>\n",
       "      <td>0.009682</td>\n",
       "      <td>0.012925</td>\n",
       "    </tr>\n",
       "    <tr>\n",
       "      <th>29</th>\n",
       "      <td>TFIDFRecommender_top_5000, K=2</td>\n",
       "      <td>0.156872</td>\n",
       "      <td>0.115279</td>\n",
       "      <td>0.009682</td>\n",
       "      <td>0.011406</td>\n",
       "    </tr>\n",
       "    <tr>\n",
       "      <th>20</th>\n",
       "      <td>CosineRecommender_top_5000, K=2</td>\n",
       "      <td>0.156872</td>\n",
       "      <td>0.115279</td>\n",
       "      <td>0.009682</td>\n",
       "      <td>0.011406</td>\n",
       "    </tr>\n",
       "    <tr>\n",
       "      <th>28</th>\n",
       "      <td>TFIDFRecommender_top_2000, K=2</td>\n",
       "      <td>0.156872</td>\n",
       "      <td>0.129971</td>\n",
       "      <td>0.009682</td>\n",
       "      <td>0.012925</td>\n",
       "    </tr>\n",
       "    <tr>\n",
       "      <th>2</th>\n",
       "      <td>popularity_recommendation</td>\n",
       "      <td>0.137773</td>\n",
       "      <td>0.155240</td>\n",
       "      <td>0.016013</td>\n",
       "      <td>0.024996</td>\n",
       "    </tr>\n",
       "    <tr>\n",
       "      <th>34</th>\n",
       "      <td>BM25Recommender_top_2000, K=10</td>\n",
       "      <td>0.134794</td>\n",
       "      <td>0.149657</td>\n",
       "      <td>0.012223</td>\n",
       "      <td>0.015810</td>\n",
       "    </tr>\n",
       "    <tr>\n",
       "      <th>37</th>\n",
       "      <td>BM25Recommender_top_2000, K=2</td>\n",
       "      <td>0.134794</td>\n",
       "      <td>0.149657</td>\n",
       "      <td>0.012223</td>\n",
       "      <td>0.015810</td>\n",
       "    </tr>\n",
       "    <tr>\n",
       "      <th>31</th>\n",
       "      <td>BM25Recommender_top_2000, K=5</td>\n",
       "      <td>0.134794</td>\n",
       "      <td>0.149657</td>\n",
       "      <td>0.012223</td>\n",
       "      <td>0.015810</td>\n",
       "    </tr>\n",
       "    <tr>\n",
       "      <th>12</th>\n",
       "      <td>ItemItemRecommender_top_10000, K=2</td>\n",
       "      <td>0.125122</td>\n",
       "      <td>0.135325</td>\n",
       "      <td>0.011503</td>\n",
       "      <td>0.019180</td>\n",
       "    </tr>\n",
       "    <tr>\n",
       "      <th>9</th>\n",
       "      <td>ItemItemRecommender_top_10000, K=10</td>\n",
       "      <td>0.125122</td>\n",
       "      <td>0.112390</td>\n",
       "      <td>0.011265</td>\n",
       "      <td>0.015408</td>\n",
       "    </tr>\n",
       "    <tr>\n",
       "      <th>6</th>\n",
       "      <td>ItemItemRecommender_top_10000, K=5</td>\n",
       "      <td>0.125122</td>\n",
       "      <td>0.112390</td>\n",
       "      <td>0.011265</td>\n",
       "      <td>0.015408</td>\n",
       "    </tr>\n",
       "    <tr>\n",
       "      <th>27</th>\n",
       "      <td>TFIDFRecommender_top_10000, K=10</td>\n",
       "      <td>0.125122</td>\n",
       "      <td>0.103820</td>\n",
       "      <td>0.011265</td>\n",
       "      <td>0.013221</td>\n",
       "    </tr>\n",
       "    <tr>\n",
       "      <th>18</th>\n",
       "      <td>CosineRecommender_top_10000, K=10</td>\n",
       "      <td>0.125122</td>\n",
       "      <td>0.103820</td>\n",
       "      <td>0.011265</td>\n",
       "      <td>0.013221</td>\n",
       "    </tr>\n",
       "    <tr>\n",
       "      <th>24</th>\n",
       "      <td>TFIDFRecommender_top_10000, K=5</td>\n",
       "      <td>0.125122</td>\n",
       "      <td>0.103820</td>\n",
       "      <td>0.011265</td>\n",
       "      <td>0.013221</td>\n",
       "    </tr>\n",
       "    <tr>\n",
       "      <th>15</th>\n",
       "      <td>CosineRecommender_top_10000, K=5</td>\n",
       "      <td>0.125122</td>\n",
       "      <td>0.103820</td>\n",
       "      <td>0.011265</td>\n",
       "      <td>0.013221</td>\n",
       "    </tr>\n",
       "    <tr>\n",
       "      <th>30</th>\n",
       "      <td>TFIDFRecommender_top_10000, K=2</td>\n",
       "      <td>0.092434</td>\n",
       "      <td>0.093209</td>\n",
       "      <td>0.008092</td>\n",
       "      <td>0.011148</td>\n",
       "    </tr>\n",
       "    <tr>\n",
       "      <th>21</th>\n",
       "      <td>CosineRecommender_top_10000, K=2</td>\n",
       "      <td>0.092434</td>\n",
       "      <td>0.093209</td>\n",
       "      <td>0.008092</td>\n",
       "      <td>0.011148</td>\n",
       "    </tr>\n",
       "    <tr>\n",
       "      <th>32</th>\n",
       "      <td>BM25Recommender_top_5000, K=5</td>\n",
       "      <td>0.035504</td>\n",
       "      <td>0.036729</td>\n",
       "      <td>0.002926</td>\n",
       "      <td>0.004010</td>\n",
       "    </tr>\n",
       "    <tr>\n",
       "      <th>38</th>\n",
       "      <td>BM25Recommender_top_5000, K=2</td>\n",
       "      <td>0.035504</td>\n",
       "      <td>0.036729</td>\n",
       "      <td>0.002926</td>\n",
       "      <td>0.004010</td>\n",
       "    </tr>\n",
       "    <tr>\n",
       "      <th>35</th>\n",
       "      <td>BM25Recommender_top_5000, K=10</td>\n",
       "      <td>0.035504</td>\n",
       "      <td>0.036729</td>\n",
       "      <td>0.002926</td>\n",
       "      <td>0.004010</td>\n",
       "    </tr>\n",
       "    <tr>\n",
       "      <th>1</th>\n",
       "      <td>random_recommendation_top_500</td>\n",
       "      <td>0.027261</td>\n",
       "      <td>0.022723</td>\n",
       "      <td>0.002197</td>\n",
       "      <td>0.002221</td>\n",
       "    </tr>\n",
       "    <tr>\n",
       "      <th>36</th>\n",
       "      <td>BM25Recommender_top_10000, K=10</td>\n",
       "      <td>0.009060</td>\n",
       "      <td>0.018201</td>\n",
       "      <td>0.000593</td>\n",
       "      <td>0.002238</td>\n",
       "    </tr>\n",
       "    <tr>\n",
       "      <th>39</th>\n",
       "      <td>BM25Recommender_top_10000, K=2</td>\n",
       "      <td>0.009060</td>\n",
       "      <td>0.018201</td>\n",
       "      <td>0.000593</td>\n",
       "      <td>0.002238</td>\n",
       "    </tr>\n",
       "    <tr>\n",
       "      <th>33</th>\n",
       "      <td>BM25Recommender_top_10000, K=5</td>\n",
       "      <td>0.009060</td>\n",
       "      <td>0.018201</td>\n",
       "      <td>0.000593</td>\n",
       "      <td>0.002238</td>\n",
       "    </tr>\n",
       "    <tr>\n",
       "      <th>3</th>\n",
       "      <td>weighted_random_recommendation</td>\n",
       "      <td>0.001632</td>\n",
       "      <td>0.001763</td>\n",
       "      <td>0.000060</td>\n",
       "      <td>0.000213</td>\n",
       "    </tr>\n",
       "    <tr>\n",
       "      <th>0</th>\n",
       "      <td>random_recommendation</td>\n",
       "      <td>0.000979</td>\n",
       "      <td>0.000881</td>\n",
       "      <td>0.000043</td>\n",
       "      <td>0.000084</td>\n",
       "    </tr>\n",
       "  </tbody>\n",
       "</table>\n",
       "</div>"
      ],
      "text/plain": [
       "                                   name  precision@3  precision@5  recall@3  \\\n",
       "10    ItemItemRecommender_top_2000, K=2     0.233758     0.162977  0.016859   \n",
       "11    ItemItemRecommender_top_5000, K=2     0.233758     0.162977  0.016859   \n",
       "7    ItemItemRecommender_top_2000, K=10     0.217597     0.157003  0.015042   \n",
       "8    ItemItemRecommender_top_5000, K=10     0.217597     0.157003  0.015042   \n",
       "13      CosineRecommender_top_2000, K=5     0.174012     0.135455  0.011631   \n",
       "25      TFIDFRecommender_top_2000, K=10     0.174012     0.135455  0.011631   \n",
       "16     CosineRecommender_top_2000, K=10     0.174012     0.135455  0.011631   \n",
       "17     CosineRecommender_top_5000, K=10     0.174012     0.135455  0.011631   \n",
       "22       TFIDFRecommender_top_2000, K=5     0.174012     0.135455  0.011631   \n",
       "23       TFIDFRecommender_top_5000, K=5     0.174012     0.135455  0.011631   \n",
       "4     ItemItemRecommender_top_2000, K=5     0.174012     0.145739  0.011631   \n",
       "5     ItemItemRecommender_top_5000, K=5     0.174012     0.145739  0.011631   \n",
       "26      TFIDFRecommender_top_5000, K=10     0.174012     0.135455  0.011631   \n",
       "14      CosineRecommender_top_5000, K=5     0.174012     0.135455  0.011631   \n",
       "19      CosineRecommender_top_2000, K=2     0.156872     0.129971  0.009682   \n",
       "29       TFIDFRecommender_top_5000, K=2     0.156872     0.115279  0.009682   \n",
       "20      CosineRecommender_top_5000, K=2     0.156872     0.115279  0.009682   \n",
       "28       TFIDFRecommender_top_2000, K=2     0.156872     0.129971  0.009682   \n",
       "2             popularity_recommendation     0.137773     0.155240  0.016013   \n",
       "34       BM25Recommender_top_2000, K=10     0.134794     0.149657  0.012223   \n",
       "37        BM25Recommender_top_2000, K=2     0.134794     0.149657  0.012223   \n",
       "31        BM25Recommender_top_2000, K=5     0.134794     0.149657  0.012223   \n",
       "12   ItemItemRecommender_top_10000, K=2     0.125122     0.135325  0.011503   \n",
       "9   ItemItemRecommender_top_10000, K=10     0.125122     0.112390  0.011265   \n",
       "6    ItemItemRecommender_top_10000, K=5     0.125122     0.112390  0.011265   \n",
       "27     TFIDFRecommender_top_10000, K=10     0.125122     0.103820  0.011265   \n",
       "18    CosineRecommender_top_10000, K=10     0.125122     0.103820  0.011265   \n",
       "24      TFIDFRecommender_top_10000, K=5     0.125122     0.103820  0.011265   \n",
       "15     CosineRecommender_top_10000, K=5     0.125122     0.103820  0.011265   \n",
       "30      TFIDFRecommender_top_10000, K=2     0.092434     0.093209  0.008092   \n",
       "21     CosineRecommender_top_10000, K=2     0.092434     0.093209  0.008092   \n",
       "32        BM25Recommender_top_5000, K=5     0.035504     0.036729  0.002926   \n",
       "38        BM25Recommender_top_5000, K=2     0.035504     0.036729  0.002926   \n",
       "35       BM25Recommender_top_5000, K=10     0.035504     0.036729  0.002926   \n",
       "1         random_recommendation_top_500     0.027261     0.022723  0.002197   \n",
       "36      BM25Recommender_top_10000, K=10     0.009060     0.018201  0.000593   \n",
       "39       BM25Recommender_top_10000, K=2     0.009060     0.018201  0.000593   \n",
       "33       BM25Recommender_top_10000, K=5     0.009060     0.018201  0.000593   \n",
       "3        weighted_random_recommendation     0.001632     0.001763  0.000060   \n",
       "0                 random_recommendation     0.000979     0.000881  0.000043   \n",
       "\n",
       "    recall@5  \n",
       "10  0.019229  \n",
       "11  0.019229  \n",
       "7   0.017730  \n",
       "8   0.017730  \n",
       "13  0.014031  \n",
       "25  0.014031  \n",
       "16  0.014031  \n",
       "17  0.014031  \n",
       "22  0.014031  \n",
       "23  0.014031  \n",
       "4   0.016218  \n",
       "5   0.016218  \n",
       "26  0.014031  \n",
       "14  0.014031  \n",
       "19  0.012925  \n",
       "29  0.011406  \n",
       "20  0.011406  \n",
       "28  0.012925  \n",
       "2   0.024996  \n",
       "34  0.015810  \n",
       "37  0.015810  \n",
       "31  0.015810  \n",
       "12  0.019180  \n",
       "9   0.015408  \n",
       "6   0.015408  \n",
       "27  0.013221  \n",
       "18  0.013221  \n",
       "24  0.013221  \n",
       "15  0.013221  \n",
       "30  0.011148  \n",
       "21  0.011148  \n",
       "32  0.004010  \n",
       "38  0.004010  \n",
       "35  0.004010  \n",
       "1   0.002221  \n",
       "36  0.002238  \n",
       "39  0.002238  \n",
       "33  0.002238  \n",
       "3   0.000213  \n",
       "0   0.000084  "
      ]
     },
     "metadata": {},
     "output_type": "display_data"
    },
    {
     "data": {
      "image/png": "[encoded data removed]",
      "text/plain": [
       "<Figure size 1200x1000 with 1 Axes>"
      ]
     },
     "metadata": {},
     "output_type": "display_data"
    }
   ],
   "source": [
    "for alg in ['ItemItemRecommender', 'CosineRecommender', 'TFIDFRecommender', 'BM25Recommender']:\n",
    "    get_deterministic_algorithms(alg)\n",
    "    get_deterministic_algorithms(alg, K=10)\n",
    "    get_deterministic_algorithms(alg, K=2)\n",
    "\n",
    "display('метрики:', result_table.sort_values('precision@5', ascending=False).sort_values('precision@3', ascending=False))\n",
    "\n",
    "\n",
    "names = result_table['name']\n",
    "precision_3 = result_table['precision@3']\n",
    "precision_5 = result_table['precision@5']\n",
    "recall_3 = result_table['recall@3']\n",
    "recall_5 = result_table['recall@5']\n",
    "height = 0.2                                   # высота баров\n",
    "fig, ax = plt.subplots(figsize=(12, 10))       # подзаголовки графика\n",
    "ax.set_title('Результаты тестирования алгоритмов')\n",
    "ind = np.arange(len(names))                    # массив индексов\n",
    "\n",
    "# Отрисовка баров для каждой метрики\n",
    "ax.barh(ind - 2*height, precision_3, height, label='precision@3')\n",
    "ax.barh(ind - height, precision_5, height, label='precision@5')\n",
    "ax.barh(ind, recall_3, height, label='recall@3')\n",
    "ax.barh(ind + height, recall_5, height, label='recall@5')\n",
    "\n",
    "ax.set_xlabel('Значения метрик')\n",
    "ax.set_yticks(ind)\n",
    "ax.set_yticklabels(names)\n",
    "plt.legend(loc='best')\n",
    "\n",
    "plt.minorticks_on()\n",
    "plt.grid(which='major', linewidth=.5)\n",
    "plt.grid(which='minor', axis='x', linewidth=.25, linestyle='--');"
   ]
  },
  {
   "cell_type": "markdown",
   "metadata": {},
   "source": [
    "### Выводы:"
   ]
  },
  {
   "cell_type": "markdown",
   "metadata": {},
   "source": [
    "Вот так мы сформировали аж 40 рекомендаций разными алгоритмами и посчитали 160 метрик и вот что видим:"
   ]
  },
  {
   "cell_type": "code",
   "execution_count": 22,
   "metadata": {},
   "outputs": [
    {
     "data": {
      "text/plain": [
       "(40, 160)"
      ]
     },
     "execution_count": 22,
     "metadata": {},
     "output_type": "execute_result"
    }
   ],
   "source": [
    "result_table.shape[0], result_table.shape[0]*4"
   ]
  },
  {
   "cell_type": "markdown",
   "metadata": {},
   "source": [
    "`Precision` - это доля релевантных рекомендаций среди всех рекомендаций. Эта доля показывает, насколько точными являются рекомендации\n",
    "\n",
    "`Recall` - это доля релевантных рекомендаций, которые были найдены среди всех релевантных товаров, то есть насколько полными являются рекомендации"
   ]
  },
  {
   "cell_type": "markdown",
   "metadata": {},
   "source": [
    "На наших данных лучше всего показал себя `ItemItemRecommender_top_2000, K=2`-алгоритм, понижение размера выборки, количества соседей и количества самих рекомендаций действует на точность алгоритма положительно:\n",
    "\n",
    "- precision@3 = 0.233758\n",
    "- precision@5 = 0.162977\n",
    "- recall@3 = 0.016859\t\n",
    "- recall@5 = 0.019229\n",
    "\n",
    "`Recall` выше только у `popularity_recommendation`, он лидер среди всех бейзлайнов \n",
    "\n",
    "Хуже же всех результаты у `random_recommendation` и удивительного здесь мало, так как random никак не учитывает потребности пользователей и потому его рекомендации \"мажут\" мимо цели. \n",
    "\n",
    "Из интересного стоит отметить и то, что выборки top_2000 и top_5000 практически всегда дают одинаковый результат. И причина этого может заключаться в особенности данных (либо я допустил где-то косяк и не вижу его). А если нет разницы, зачем брать больше item-ов? Тем более, что top_10000 возвращает результат хуже, а значит увеличивать количество item точно не нужно."
   ]
  },
  {
   "cell_type": "markdown",
   "metadata": {},
   "source": [
    "_____"
   ]
  }
 ],
 "metadata": {
  "colab": {
   "name": "hw_webinar_2.ipynb",
   "provenance": []
  },
  "kernelspec": {
   "display_name": "Python 3 (ipykernel)",
   "language": "python",
   "name": "python3"
  },
  "language_info": {
   "codemirror_mode": {
    "name": "ipython",
    "version": 3
   },
   "file_extension": ".py",
   "mimetype": "text/x-python",
   "name": "python",
   "nbconvert_exporter": "python",
   "pygments_lexer": "ipython3",
   "version": "3.9.13"
  },
  "toc": {
   "base_numbering": 1,
   "nav_menu": {},
   "number_sections": true,
   "sideBar": true,
   "skip_h1_title": true,
   "title_cell": "Table of Contents",
   "title_sidebar": "Contents",
   "toc_cell": true,
   "toc_position": {},
   "toc_section_display": true,
   "toc_window_display": false
  }
 },
 "nbformat": 4,
 "nbformat_minor": 1
}
