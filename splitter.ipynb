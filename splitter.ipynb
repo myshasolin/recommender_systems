{
 "cells": [
  {
   "cell_type": "code",
   "execution_count": 1,
   "id": "d9489703-94dd-4969-9f05-aad87020f1ce",
   "metadata": {},
   "outputs": [],
   "source": [
    "import csv\n",
    "\n",
    "def csv_splitter(file_name: str, chunk_size: int, header=None):\n",
    "    \"\"\"\n",
    "    функция делит один csv-файл на несколько меньших по chunk_size - количеству строк \n",
    "    \"\"\"\n",
    "    with open(f'{file_name}.csv', 'r') as f:\n",
    "        reader = csv.reader(f)\n",
    "        header = next(reader)          # заголовки\n",
    "        rows = [row for row in reader]\n",
    "\n",
    "    num_chunks = len(rows) // chunk_size + 1\n",
    "    count = 0\n",
    "    for i in range(num_chunks):\n",
    "        start_index = i * chunk_size\n",
    "        end_index = start_index + chunk_size\n",
    "        chunk = rows[start_index:end_index]\n",
    "        if i == num_chunks - 1 and len(rows) % chunk_size != 0:\n",
    "            last_chunk = rows[i * chunk_size:]\n",
    "            with open(f'{file_name}_small_{i}.csv', 'w', newline='') as f:\n",
    "                writer = csv.writer(f)\n",
    "                writer.writerow(header)\n",
    "                writer.writerows(last_chunk)\n",
    "        else:\n",
    "            with open(f'{file_name}_small_{i}.csv', 'w', newline='') as f:\n",
    "                writer = csv.writer(f)\n",
    "                writer.writerow(header)\n",
    "                writer.writerows(chunk)\n",
    "        count = i + 1\n",
    "    print(f'успешный успех! Файл разделён на {count} частей')\n",
    "    "
   ]
  }
 ],
 "metadata": {
  "kernelspec": {
   "display_name": "Python 3 (ipykernel)",
   "language": "python",
   "name": "python3"
  },
  "language_info": {
   "codemirror_mode": {
    "name": "ipython",
    "version": 3
   },
   "file_extension": ".py",
   "mimetype": "text/x-python",
   "name": "python",
   "nbconvert_exporter": "python",
   "pygments_lexer": "ipython3",
   "version": "3.9.13"
  },
  "toc": {
   "base_numbering": 1,
   "nav_menu": {},
   "number_sections": true,
   "sideBar": true,
   "skip_h1_title": true,
   "title_cell": "Table of Contents",
   "title_sidebar": "Contents",
   "toc_cell": true,
   "toc_position": {},
   "toc_section_display": true,
   "toc_window_display": false
  }
 },
 "nbformat": 4,
 "nbformat_minor": 5
}
